{
 "cells": [
  {
   "cell_type": "markdown",
   "id": "37a8fc77",
   "metadata": {},
   "source": [
    "# Проект по анализу данных"
   ]
  },
  {
   "cell_type": "markdown",
   "id": "f13ed00e",
   "metadata": {},
   "source": [
    "Выполнила команда MDS   \n",
    "\n",
    "участники: \n",
    "   \n",
    "   Абдугаффорова Дилноза                            \n",
    "   Батмунх Мунхгэрэл                     \n",
    "   Хасанова Саида"
   ]
  },
  {
   "cell_type": "markdown",
   "id": "f06a7ae0",
   "metadata": {},
   "source": [
    "# Шаг 1: Выбор темы"
   ]
  },
  {
   "cell_type": "markdown",
   "id": "21ee4863",
   "metadata": {},
   "source": [
    "Нам было интересно работать с продажами и предсказывать доходности для товаров, поэтому для нашего исследования мы решили проанализировать рынок электроники, так как он достаточно обширный и включает в себя разные виды электронных устройств."
   ]
  },
  {
   "cell_type": "markdown",
   "id": "d06f4f9b",
   "metadata": {},
   "source": [
    "# Шаг 2: Сбор данных"
   ]
  },
  {
   "cell_type": "markdown",
   "id": "c8ef4223",
   "metadata": {},
   "source": [
    "Для исследования мы взяли данные из kaggle. Здесь представлены данные о продажах магазина электроники за 12 месяцев. Датасет представляет собой следующие колонки:\n",
    "\n",
    "* `Order Id` – номер заказа\n",
    "* `Product` – название электронного прибора/устройства\n",
    "* `Quantity Ordered` – количество\n",
    "* `Price Each` – цена товара\n",
    "* `OrderDate` – дата заказа\n",
    "* `Address` – город продажи"
   ]
  },
  {
   "cell_type": "markdown",
   "id": "1ba3957a",
   "metadata": {},
   "source": [
    "# Шаг 3: Предварительная обработка "
   ]
  },
  {
   "cell_type": "markdown",
   "id": "a9c3f2fc",
   "metadata": {},
   "source": [
    "В kaggle мы нашли 12 файлов, в котором были данные о продаже на каждый месяц отдельно; в таблицах были пропуски, а количество и цена имели тип object, поэтому на данном этапе объединили для начала все файлы, заполнили пропуски и изменили тип числовых значений на float"
   ]
  },
  {
   "cell_type": "code",
   "execution_count": 969,
   "id": "1aab88b5",
   "metadata": {},
   "outputs": [],
   "source": [
    "import numpy as np\n",
    "import pandas as pd\n",
    "import matplotlib.pyplot as plt\n",
    "import seaborn as sns\n",
    "\n",
    "from scipy import stats\n",
    "import statistics\n",
    "\n",
    "import random\n",
    "from sklearn import preprocessing\n",
    "import scipy.stats as sp\n",
    "np.random.seed(42)\n",
    "from scipy.stats import norm   \n",
    "from scipy.stats import ttest_ind\n",
    "from tqdm import tqdm\n",
    "import math\n",
    "import os\n",
    "from sklearn.model_selection import train_test_split\n",
    "from sklearn.linear_model import LinearRegression # подгрузили модель\n",
    "from sklearn.linear_model import Ridge\n",
    "from sklearn.preprocessing import StandardScaler\n",
    "from sklearn.model_selection import GridSearchCV    #Подгружаем Gridsearch, регрессии\n",
    "\n",
    "# Отключение некоторых лишних предупреждений\n",
    "import warnings\n",
    "warnings.filterwarnings(\"ignore\")"
   ]
  },
  {
   "cell_type": "code",
   "execution_count": 970,
   "id": "a0b039f9",
   "metadata": {},
   "outputs": [
    {
     "data": {
      "text/plain": [
       "['Sales_01_2019.csv',\n",
       " 'Sales_02_2019.csv',\n",
       " 'Sales_03_2019.csv',\n",
       " 'Sales_04_2019.csv',\n",
       " 'Sales_05_2019.csv',\n",
       " 'Sales_06_2019.csv',\n",
       " 'Sales_07_2019.csv',\n",
       " 'Sales_08_2019.csv',\n",
       " 'Sales_09_2019.csv',\n",
       " 'Sales_10_2019.csv',\n",
       " 'Sales_11_2019.csv',\n",
       " 'Sales_12_2019.csv']"
      ]
     },
     "execution_count": 970,
     "metadata": {},
     "output_type": "execute_result"
    }
   ],
   "source": [
    "all_files = os.listdir('sales')\n",
    "csv_files = []\n",
    "for file in all_files:\n",
    "    if file[-3:] == 'csv':\n",
    "        csv_files.append(file)\n",
    "    else: \n",
    "        pass\n",
    "\n",
    "csv_files"
   ]
  },
  {
   "cell_type": "code",
   "execution_count": 971,
   "id": "81f943c2",
   "metadata": {},
   "outputs": [],
   "source": [
    "all_data =all_data.dropna(how=\"all\")\n",
    "all_data = all_data[all_data['Order Date'].str[0:2]!=\"Or\"]"
   ]
  },
  {
   "cell_type": "code",
   "execution_count": 972,
   "id": "dae90e38",
   "metadata": {},
   "outputs": [],
   "source": [
    "all_data['Quantity Ordered'] = all_data['Quantity Ordered'].astype(int)\n",
    "all_data['Price Each'] = all_data['Price Each'].astype(float)"
   ]
  },
  {
   "cell_type": "markdown",
   "id": "0f42d96c",
   "metadata": {},
   "source": [
    "Добавили новую колонку Months, чтобы работать с месяцами отдельно"
   ]
  },
  {
   "cell_type": "code",
   "execution_count": 973,
   "id": "a824c387",
   "metadata": {},
   "outputs": [],
   "source": [
    "all_data['Months'] = all_data['Order Date'].str[0:2]\n",
    "all_data['Months']  = all_data['Months'].astype(int)"
   ]
  },
  {
   "cell_type": "code",
   "execution_count": 974,
   "id": "acde4418",
   "metadata": {
    "scrolled": false
   },
   "outputs": [
    {
     "data": {
      "text/html": [
       "<div>\n",
       "<style scoped>\n",
       "    .dataframe tbody tr th:only-of-type {\n",
       "        vertical-align: middle;\n",
       "    }\n",
       "\n",
       "    .dataframe tbody tr th {\n",
       "        vertical-align: top;\n",
       "    }\n",
       "\n",
       "    .dataframe thead th {\n",
       "        text-align: right;\n",
       "    }\n",
       "</style>\n",
       "<table border=\"1\" class=\"dataframe\">\n",
       "  <thead>\n",
       "    <tr style=\"text-align: right;\">\n",
       "      <th></th>\n",
       "      <th>Order ID</th>\n",
       "      <th>Product</th>\n",
       "      <th>Quantity Ordered</th>\n",
       "      <th>Price Each</th>\n",
       "      <th>Order Date</th>\n",
       "      <th>Purchase Address</th>\n",
       "      <th>Months</th>\n",
       "      <th>income</th>\n",
       "      <th>city</th>\n",
       "    </tr>\n",
       "  </thead>\n",
       "  <tbody>\n",
       "    <tr>\n",
       "      <th>0</th>\n",
       "      <td>176558</td>\n",
       "      <td>USB-C Charging Cable</td>\n",
       "      <td>2</td>\n",
       "      <td>11.95</td>\n",
       "      <td>04/19/19 08:46</td>\n",
       "      <td>917 1st St, Dallas, TX 75001</td>\n",
       "      <td>4</td>\n",
       "      <td>23.90</td>\n",
       "      <td>Dallas</td>\n",
       "    </tr>\n",
       "    <tr>\n",
       "      <th>2</th>\n",
       "      <td>176559</td>\n",
       "      <td>Bose SoundSport Headphones</td>\n",
       "      <td>1</td>\n",
       "      <td>99.99</td>\n",
       "      <td>04/07/19 22:30</td>\n",
       "      <td>682 Chestnut St, Boston, MA 02215</td>\n",
       "      <td>4</td>\n",
       "      <td>99.99</td>\n",
       "      <td>Boston</td>\n",
       "    </tr>\n",
       "    <tr>\n",
       "      <th>3</th>\n",
       "      <td>176560</td>\n",
       "      <td>Google Phone</td>\n",
       "      <td>1</td>\n",
       "      <td>600.00</td>\n",
       "      <td>04/12/19 14:38</td>\n",
       "      <td>669 Spruce St, Los Angeles, CA 90001</td>\n",
       "      <td>4</td>\n",
       "      <td>600.00</td>\n",
       "      <td>Los Angeles</td>\n",
       "    </tr>\n",
       "    <tr>\n",
       "      <th>4</th>\n",
       "      <td>176560</td>\n",
       "      <td>Wired Headphones</td>\n",
       "      <td>1</td>\n",
       "      <td>11.99</td>\n",
       "      <td>04/12/19 14:38</td>\n",
       "      <td>669 Spruce St, Los Angeles, CA 90001</td>\n",
       "      <td>4</td>\n",
       "      <td>11.99</td>\n",
       "      <td>Los Angeles</td>\n",
       "    </tr>\n",
       "    <tr>\n",
       "      <th>5</th>\n",
       "      <td>176561</td>\n",
       "      <td>Wired Headphones</td>\n",
       "      <td>1</td>\n",
       "      <td>11.99</td>\n",
       "      <td>04/30/19 09:27</td>\n",
       "      <td>333 8th St, Los Angeles, CA 90001</td>\n",
       "      <td>4</td>\n",
       "      <td>11.99</td>\n",
       "      <td>Los Angeles</td>\n",
       "    </tr>\n",
       "    <tr>\n",
       "      <th>...</th>\n",
       "      <td>...</td>\n",
       "      <td>...</td>\n",
       "      <td>...</td>\n",
       "      <td>...</td>\n",
       "      <td>...</td>\n",
       "      <td>...</td>\n",
       "      <td>...</td>\n",
       "      <td>...</td>\n",
       "      <td>...</td>\n",
       "    </tr>\n",
       "    <tr>\n",
       "      <th>11681</th>\n",
       "      <td>259353</td>\n",
       "      <td>AAA Batteries (4-pack)</td>\n",
       "      <td>3</td>\n",
       "      <td>2.99</td>\n",
       "      <td>09/17/19 20:56</td>\n",
       "      <td>840 Highland St, Los Angeles, CA 90001</td>\n",
       "      <td>9</td>\n",
       "      <td>8.97</td>\n",
       "      <td>Los Angeles</td>\n",
       "    </tr>\n",
       "    <tr>\n",
       "      <th>11682</th>\n",
       "      <td>259354</td>\n",
       "      <td>iPhone</td>\n",
       "      <td>1</td>\n",
       "      <td>700.00</td>\n",
       "      <td>09/01/19 16:00</td>\n",
       "      <td>216 Dogwood St, San Francisco, CA 94016</td>\n",
       "      <td>9</td>\n",
       "      <td>700.00</td>\n",
       "      <td>San Francisco</td>\n",
       "    </tr>\n",
       "    <tr>\n",
       "      <th>11683</th>\n",
       "      <td>259355</td>\n",
       "      <td>iPhone</td>\n",
       "      <td>1</td>\n",
       "      <td>700.00</td>\n",
       "      <td>09/23/19 07:39</td>\n",
       "      <td>220 12th St, San Francisco, CA 94016</td>\n",
       "      <td>9</td>\n",
       "      <td>700.00</td>\n",
       "      <td>San Francisco</td>\n",
       "    </tr>\n",
       "    <tr>\n",
       "      <th>11684</th>\n",
       "      <td>259356</td>\n",
       "      <td>34in Ultrawide Monitor</td>\n",
       "      <td>1</td>\n",
       "      <td>379.99</td>\n",
       "      <td>09/19/19 17:30</td>\n",
       "      <td>511 Forest St, San Francisco, CA 94016</td>\n",
       "      <td>9</td>\n",
       "      <td>379.99</td>\n",
       "      <td>San Francisco</td>\n",
       "    </tr>\n",
       "    <tr>\n",
       "      <th>11685</th>\n",
       "      <td>259357</td>\n",
       "      <td>USB-C Charging Cable</td>\n",
       "      <td>1</td>\n",
       "      <td>11.95</td>\n",
       "      <td>09/30/19 00:18</td>\n",
       "      <td>250 Meadow St, San Francisco, CA 94016</td>\n",
       "      <td>9</td>\n",
       "      <td>11.95</td>\n",
       "      <td>San Francisco</td>\n",
       "    </tr>\n",
       "  </tbody>\n",
       "</table>\n",
       "<p>185950 rows × 9 columns</p>\n",
       "</div>"
      ],
      "text/plain": [
       "      Order ID                     Product  Quantity Ordered  Price Each  \\\n",
       "0       176558        USB-C Charging Cable                 2       11.95   \n",
       "2       176559  Bose SoundSport Headphones                 1       99.99   \n",
       "3       176560                Google Phone                 1      600.00   \n",
       "4       176560            Wired Headphones                 1       11.99   \n",
       "5       176561            Wired Headphones                 1       11.99   \n",
       "...        ...                         ...               ...         ...   \n",
       "11681   259353      AAA Batteries (4-pack)                 3        2.99   \n",
       "11682   259354                      iPhone                 1      700.00   \n",
       "11683   259355                      iPhone                 1      700.00   \n",
       "11684   259356      34in Ultrawide Monitor                 1      379.99   \n",
       "11685   259357        USB-C Charging Cable                 1       11.95   \n",
       "\n",
       "           Order Date                         Purchase Address  Months  \\\n",
       "0      04/19/19 08:46             917 1st St, Dallas, TX 75001       4   \n",
       "2      04/07/19 22:30        682 Chestnut St, Boston, MA 02215       4   \n",
       "3      04/12/19 14:38     669 Spruce St, Los Angeles, CA 90001       4   \n",
       "4      04/12/19 14:38     669 Spruce St, Los Angeles, CA 90001       4   \n",
       "5      04/30/19 09:27        333 8th St, Los Angeles, CA 90001       4   \n",
       "...               ...                                      ...     ...   \n",
       "11681  09/17/19 20:56   840 Highland St, Los Angeles, CA 90001       9   \n",
       "11682  09/01/19 16:00  216 Dogwood St, San Francisco, CA 94016       9   \n",
       "11683  09/23/19 07:39     220 12th St, San Francisco, CA 94016       9   \n",
       "11684  09/19/19 17:30   511 Forest St, San Francisco, CA 94016       9   \n",
       "11685  09/30/19 00:18   250 Meadow St, San Francisco, CA 94016       9   \n",
       "\n",
       "       income            city  \n",
       "0       23.90          Dallas  \n",
       "2       99.99          Boston  \n",
       "3      600.00     Los Angeles  \n",
       "4       11.99     Los Angeles  \n",
       "5       11.99     Los Angeles  \n",
       "...       ...             ...  \n",
       "11681    8.97     Los Angeles  \n",
       "11682  700.00   San Francisco  \n",
       "11683  700.00   San Francisco  \n",
       "11684  379.99   San Francisco  \n",
       "11685   11.95   San Francisco  \n",
       "\n",
       "[185950 rows x 9 columns]"
      ]
     },
     "execution_count": 974,
     "metadata": {},
     "output_type": "execute_result"
    }
   ],
   "source": [
    "all_data"
   ]
  },
  {
   "cell_type": "code",
   "execution_count": 975,
   "id": "be2c7ef3",
   "metadata": {},
   "outputs": [
    {
     "data": {
      "text/plain": [
       "Order ID            0\n",
       "Product             0\n",
       "Quantity Ordered    0\n",
       "Price Each          0\n",
       "Order Date          0\n",
       "Purchase Address    0\n",
       "Months              0\n",
       "income              0\n",
       "city                0\n",
       "dtype: int64"
      ]
     },
     "execution_count": 975,
     "metadata": {},
     "output_type": "execute_result"
    }
   ],
   "source": [
    "all_data.isnull().sum()  # пропусков больше нет"
   ]
  },
  {
   "cell_type": "markdown",
   "id": "3ae364d0",
   "metadata": {},
   "source": [
    "Наши данные готовы, приступаем к анализу."
   ]
  },
  {
   "cell_type": "markdown",
   "id": "aadaae65",
   "metadata": {},
   "source": [
    "# Шаг 4. Визуализация"
   ]
  },
  {
   "cell_type": "markdown",
   "id": "c1e87408",
   "metadata": {},
   "source": [
    "### 1. Объем продаж  \n",
    "\n",
    "Интересно узнать, в каких месяцах спрос на электроннные товары увеличивается и в каких падает, когда люди начинают покупать себе новые айфоны:) Для этого построим график, отражающий динамику количества проданных товаров в каждом месяце."
   ]
  },
  {
   "cell_type": "code",
   "execution_count": 976,
   "id": "5a8ae84b",
   "metadata": {},
   "outputs": [],
   "source": [
    "graf_1=all_data.groupby('Months')['Quantity Ordered'].sum()"
   ]
  },
  {
   "cell_type": "code",
   "execution_count": 977,
   "id": "1ff8abb1",
   "metadata": {
    "scrolled": false
   },
   "outputs": [
    {
     "data": {
      "text/plain": [
       "Text(0.5, 1.0, 'График объема продаж')"
      ]
     },
     "execution_count": 977,
     "metadata": {},
     "output_type": "execute_result"
    },
    {
     "data": {
      "image/png": "[encoded data removed]",
      "text/plain": [
       "<Figure size 1200x500 with 1 Axes>"
      ]
     },
     "metadata": {},
     "output_type": "display_data"
    }
   ],
   "source": [
    "graf_1.plot(figsize=(12, 5))\n",
    "plt.xlabel('Месяцы')\n",
    "plt.ylabel('Продажи')\n",
    "plt.title('График объема продаж')"
   ]
  },
  {
   "cell_type": "markdown",
   "id": "579b5ce1",
   "metadata": {},
   "source": [
    "Больше всего продажи проходят в декабре, возможно люди покупают подарки на Новый год)  Также продажи увеличиваются в марте и к началу октября, возможно тоже из за праздников или скидок в магазине."
   ]
  },
  {
   "cell_type": "markdown",
   "id": "69e2bfee",
   "metadata": {},
   "source": [
    "### 2. Популярные товары\n",
    "\n",
    "\n",
    "Какая электроника наиболее популярна? Что люди больше всего покупают? Ответим на эти вопросы с помощью следующего графика.\n",
    "Посмотрим, из каких уникальных электроник состоят наши данные и сколько было продано в течении года этих товаров."
   ]
  },
  {
   "cell_type": "code",
   "execution_count": 978,
   "id": "a1a75387",
   "metadata": {},
   "outputs": [
    {
     "data": {
      "text/plain": [
       "Text(0.5, 1.0, 'Продажи товаров в течении года')"
      ]
     },
     "execution_count": 978,
     "metadata": {},
     "output_type": "execute_result"
    },
    {
     "data": {
      "image/png": "[encoded data removed]",
      "text/plain": [
       "<Figure size 640x480 with 1 Axes>"
      ]
     },
     "metadata": {},
     "output_type": "display_data"
    }
   ],
   "source": [
    "bar = all_data.groupby('Product')['Quantity Ordered'].count()\n",
    "bar.sort_values().plot(kind='bar')\n",
    "\n",
    "plt.xlabel('Электронные устройства/приборы', fontsize=15)\n",
    "plt.ylabel('Количество проданных товаров', fontsize=15)\n",
    "plt.title('Продажи товаров в течении года')"
   ]
  },
  {
   "cell_type": "markdown",
   "id": "804e6986",
   "metadata": {},
   "source": [
    "Видимо, кабели и провода для телефонов слишком часто ломаются или теряются (￢_￢) Также на втором месте у нас батарейки, наверняка для пульта от телевизора :D"
   ]
  },
  {
   "cell_type": "markdown",
   "id": "42cf6d35",
   "metadata": {},
   "source": [
    "### 3. Товары-сотоварищи\n",
    "\n",
    "\n",
    "В большинстве случаев, на рынке электроники, люди покупают какой-то один товар, но в нашем датасете есть товары, которые покупались вместе. Это можно определить по номеру заказа, давайте найдем два товара, которые чаще всего покупались вместе и затем "
   ]
  },
  {
   "cell_type": "code",
   "execution_count": 979,
   "id": "26810bed",
   "metadata": {},
   "outputs": [
    {
     "data": {
      "text/plain": [
       "0.03165371523479869"
      ]
     },
     "execution_count": 979,
     "metadata": {},
     "output_type": "execute_result"
    }
   ],
   "source": [
    "all_tablecorr = pd.pivot_table(all_data, index = 'Order ID', values = 'Quantity Ordered', columns = 'Product', aggfunc = np.sum)\n",
    "all_tablecorr = all_tablecorr.fillna(0)\n",
    "all_tablecorr[all_tablecorr !=0] = 1\n",
    "Rcorr = all_tablecorr.corr()-np.eye(19)\n",
    "twoprod = Rcorr.max().values.max()\n",
    "twoprod  # не такая уж и большая корреляция \\_(*_*)_/"
   ]
  },
  {
   "cell_type": "code",
   "execution_count": 980,
   "id": "28eb43e3",
   "metadata": {
    "scrolled": true
   },
   "outputs": [
    {
     "data": {
      "text/plain": [
       "('Google Phone', 'USB-C Charging Cable')"
      ]
     },
     "execution_count": 980,
     "metadata": {},
     "output_type": "execute_result"
    }
   ],
   "source": [
    "all_tablecorr.corr()[all_tablecorr.corr()==twoprod].stack().index.tolist()[0] # а вот и комплект, которого мы искали)"
   ]
  },
  {
   "cell_type": "markdown",
   "id": "efe7759e",
   "metadata": {},
   "source": [
    "Построим тепловую карту и увидим как коррелируются между собой все товары."
   ]
  },
  {
   "cell_type": "code",
   "execution_count": 981,
   "id": "b68ca24d",
   "metadata": {
    "scrolled": false
   },
   "outputs": [
    {
     "data": {
      "text/plain": [
       "<AxesSubplot:xlabel='Product', ylabel='Product'>"
      ]
     },
     "execution_count": 981,
     "metadata": {},
     "output_type": "execute_result"
    },
    {
     "data": {
      "image/png": "[encoded data removed]",
      "text/plain": [
       "<Figure size 640x480 with 2 Axes>"
      ]
     },
     "metadata": {},
     "output_type": "display_data"
    }
   ],
   "source": [
    "sns.heatmap(Rcorr)"
   ]
  },
  {
   "cell_type": "markdown",
   "id": "db9e447c",
   "metadata": {},
   "source": [
    "Остальные визуализации будут с появлением новых признаков (◕‿◕)♡"
   ]
  },
  {
   "cell_type": "markdown",
   "id": "5d4b44a8",
   "metadata": {},
   "source": [
    "# Шаг 5. Создание новых признаков"
   ]
  },
  {
   "cell_type": "markdown",
   "id": "c1b0ebee",
   "metadata": {},
   "source": [
    "### 1. Доход от продажи\n",
    "\n",
    "Один из важных признаков, которого не хватает в нашей таблице - это выручка, или доход от продажи электроники. Считаем и добавляем новую колонку"
   ]
  },
  {
   "cell_type": "code",
   "execution_count": 982,
   "id": "c8891d27",
   "metadata": {},
   "outputs": [],
   "source": [
    "all_data['income']=all_data['Quantity Ordered']*all_data['Price Each']"
   ]
  },
  {
   "cell_type": "code",
   "execution_count": 983,
   "id": "bcd02bfa",
   "metadata": {},
   "outputs": [],
   "source": [
    "graf_2=all_data.groupby('Months')['income'].mean()"
   ]
  },
  {
   "cell_type": "code",
   "execution_count": 984,
   "id": "366ae367",
   "metadata": {
    "scrolled": false
   },
   "outputs": [
    {
     "data": {
      "text/plain": [
       "Text(0.5, 1.0, 'График дохода от продаж')"
      ]
     },
     "execution_count": 984,
     "metadata": {},
     "output_type": "execute_result"
    },
    {
     "data": {
      "image/png": "[encoded data removed]",
      "text/plain": [
       "<Figure size 1200x500 with 1 Axes>"
      ]
     },
     "metadata": {},
     "output_type": "display_data"
    }
   ],
   "source": [
    "graf_2.plot(figsize=(12, 5))\n",
    "plt.ticklabel_format(style='plain')\n",
    "plt.xlabel('Месяцы')\n",
    "plt.ylabel('Доход')\n",
    "plt.title('График дохода от продаж')"
   ]
  },
  {
   "cell_type": "markdown",
   "id": "dbb8e31a",
   "metadata": {},
   "source": [
    "В целом, график доходов выглядит аналогично графику объема продаж, но нам было необходимо посмотреть что происходило с доходом в течении года, так как наша цель - предсказывать доход на следующий месяц."
   ]
  },
  {
   "cell_type": "markdown",
   "id": "a42d1c78",
   "metadata": {},
   "source": [
    "### 2. Города     "
   ]
  },
  {
   "cell_type": "markdown",
   "id": "5a20519b",
   "metadata": {},
   "source": [
    "В нашей таблице есть адреса, где заказаны товары. Покупки совершаются в 9 крупных городах. Посмотрим на гистограмме в каких городах больше всего покупаются электронные товары."
   ]
  },
  {
   "cell_type": "code",
   "execution_count": 985,
   "id": "4ed6a175",
   "metadata": {},
   "outputs": [
    {
     "data": {
      "text/plain": [
       " San Francisco    44732\n",
       " Los Angeles      29605\n",
       " New York City    24876\n",
       " Boston           19934\n",
       " Atlanta          14881\n",
       " Dallas           14820\n",
       " Seattle          14732\n",
       " Portland         12465\n",
       " Austin            9905\n",
       "Name: Purchase Address, dtype: int64"
      ]
     },
     "execution_count": 985,
     "metadata": {},
     "output_type": "execute_result"
    }
   ],
   "source": [
    "city=all_data['Purchase Address'].str.split(',').str[1]\n",
    "city.value_counts()"
   ]
  },
  {
   "cell_type": "code",
   "execution_count": 986,
   "id": "89829e9c",
   "metadata": {},
   "outputs": [],
   "source": [
    "all_data['city'] = city"
   ]
  },
  {
   "cell_type": "code",
   "execution_count": 987,
   "id": "5cff2c11",
   "metadata": {},
   "outputs": [
    {
     "data": {
      "text/plain": [
       "Text(0.5, 1.0, 'Доходы от продажи в города')"
      ]
     },
     "execution_count": 987,
     "metadata": {},
     "output_type": "execute_result"
    },
    {
     "data": {
      "image/png": "[encoded data removed]",
      "text/plain": [
       "<Figure size 1000x500 with 1 Axes>"
      ]
     },
     "metadata": {},
     "output_type": "display_data"
    }
   ],
   "source": [
    "bar_1 = all_data.groupby('city')['income'].sum()\n",
    "plt.ticklabel_format(style='plain')\n",
    "bar_1.sort_values().plot(figsize=(10, 5), kind='bar')\n",
    "\n",
    "plt.xlabel('Города')\n",
    "plt.ylabel('Суммарная доходность от продажи')\n",
    "plt.title('Доходы от продажи в города')"
   ]
  },
  {
   "cell_type": "markdown",
   "id": "e4726766",
   "metadata": {},
   "source": [
    "Зная эту информацию, владелец магазина электроники может решить, в каких городах ему стоит продвигать свои товары и где рекламировать больше всего"
   ]
  },
  {
   "cell_type": "markdown",
   "id": "00e8a897",
   "metadata": {},
   "source": [
    "# Шаг 6. Гипотезы"
   ]
  },
  {
   "cell_type": "markdown",
   "id": "c6b6b602",
   "metadata": {},
   "source": [
    "Мы уже посмотрели на графиках как меняется доход в каждом месяце, какие продукты более популярны и в каких городах товары больше всего продаются, теперь проверим это с помощью математической статистики."
   ]
  },
  {
   "cell_type": "markdown",
   "id": "709bc5a8",
   "metadata": {},
   "source": [
    "##### Проверяем гипотезу о том, что средняя доходность в каждом месяце больше 180."
   ]
  },
  {
   "cell_type": "markdown",
   "id": "871e665f",
   "metadata": {},
   "source": [
    "Уровень значимости: $5\\%$\n",
    "\n",
    "$$\n",
    "\\begin{aligned}\n",
    "&H_0: \\hspace{2mm} \\mu \\le 180 \\hspace{2mm} \\ \\\\\n",
    "&H_1: \\hspace{2mm} \\mu > 180  \\hspace{2mm} \\\n",
    "\\end{aligned}\n",
    "$$"
   ]
  },
  {
   "cell_type": "code",
   "execution_count": 988,
   "id": "6f1a2ad7",
   "metadata": {
    "scrolled": true
   },
   "outputs": [
    {
     "name": "stdout",
     "output_type": "stream",
     "text": [
      "Ho отвергается \n",
      "Ho не отвергается \n",
      "Ho отвергается \n",
      "Ho отвергается \n",
      "Ho отвергается \n",
      "Ho отвергается \n",
      "Ho отвергается \n",
      "Ho отвергается \n",
      "Ho не отвергается \n",
      "Ho отвергается \n",
      "Ho не отвергается \n",
      "Ho отвергается \n"
     ]
    }
   ],
   "source": [
    "#Правосторонняя альтернативная гипотеза, матожидание и дисперсия неизвестно, выборки большие используем Z статистику\n",
    "alpha95 = 0.05                            \n",
    "z_crit95 = stats.norm.ppf(1 - alpha95)\n",
    "for i in range(1,13):\n",
    "    m=all_data.loc[all_data['Months']==i]['income']\n",
    "    z_p=((m.mean()-180)*np.sqrt(len(m)))/np.sqrt(statistics.variance(m))\n",
    "    if z_p< z_crit95:\n",
    "        print(\"Ho не отвергается \")\n",
    "    else:\n",
    "        print(\"Ho отвергается \")"
   ]
  },
  {
   "cell_type": "markdown",
   "id": "532aee5b",
   "metadata": {},
   "source": [
    "##### Проверяем гипотезу о том, что средняя доходность в каждом месяце равно 185."
   ]
  },
  {
   "cell_type": "markdown",
   "id": "8d63105c",
   "metadata": {},
   "source": [
    "Уровень значимости: $5\\%$\n",
    "\n",
    "$$\n",
    "\\begin{aligned}\n",
    "&H_0: \\hspace{2mm} \\mu = 185 \\hspace{2mm} \\ \\\\\n",
    "&H_1: \\hspace{2mm} \\mu \\neq 185  \\hspace{2mm} \\\n",
    "\\end{aligned}\n",
    "$$"
   ]
  },
  {
   "cell_type": "code",
   "execution_count": 989,
   "id": "fa832870",
   "metadata": {},
   "outputs": [
    {
     "name": "stdout",
     "output_type": "stream",
     "text": [
      "Ho не отвергается \n",
      "Ho не отвергается \n",
      "Ho не отвергается \n",
      "Ho не отвергается \n",
      "Ho отвергается \n",
      "Ho не отвергается \n",
      "Ho не отвергается \n",
      "Ho не отвергается \n",
      "Ho не отвергается \n",
      "Ho не отвергается \n",
      "Ho не отвергается \n",
      "Ho не отвергается \n"
     ]
    }
   ],
   "source": [
    "#Двухсторонняя альтернативная гипотеза, матожидание и дисперсия неизвестно, выборки большие, используем Z статистику\n",
    "alpha95 = 0.05                                \n",
    "z_crit95 = stats.norm.ppf(1 - alpha95/2)\n",
    "for i in range(1,13):\n",
    "    m = all_data.loc[all_data['Months']==i]['income']\n",
    "    z_p = ((m.mean()-185)*np.sqrt(len(m)))/np.sqrt(statistics.variance(m))\n",
    "    if z_p > -z_crit95 and z_p< z_crit95:\n",
    "        print(\"Ho не отвергается \")\n",
    "    else:\n",
    "        print(\"Ho отвергается \")"
   ]
  },
  {
   "cell_type": "markdown",
   "id": "054349d0",
   "metadata": {},
   "source": [
    "##### Для проверки гипотезы о том, что определенный тип электронных приборов продается лучше, чем другие типы, можно использовать t-тест для сравнения средних значений продаж разных типов продуктов. Предположим, что мы хотим сравнить продажи между типами продуктов \"Macbook Pro Laptop\" и \"iPhone\". "
   ]
  },
  {
   "cell_type": "code",
   "execution_count": 990,
   "id": "fd796f35",
   "metadata": {},
   "outputs": [
    {
     "name": "stdout",
     "output_type": "stream",
     "text": [
      "t-статистика: -0.30241464412063684\n",
      "p-значение: 0.7623414316283553\n",
      "Результат статистически незначим: продажи не различаются между типами продуктов\n"
     ]
    }
   ],
   "source": [
    "# Выбираем только продажи телефонов и ноутбуков\n",
    "mac = all_data[all_data['Product'] == 'Macbook Pro Laptop']['Quantity Ordered']\n",
    "iphone = all_data[all_data['Product'] == 'iPhone']['Quantity Ordered']\n",
    "# Проверяем гипотезу о равенстве средних значений продаж двух типов продуктов\n",
    "t_stat, p_value = ttest_ind(mac, iphone)\n",
    "\n",
    "# Выводим результаты теста\n",
    "print(\"t-статистика:\", t_stat)\n",
    "print(\"p-значение:\", p_value)\n",
    "if p_value < 0.05:\n",
    "    print(\"Результат статистически значим: продажи различаются между типами продуктов\")\n",
    "else:\n",
    "    print(\"Результат статистически незначим: продажи не различаются между типами продуктов\")"
   ]
  },
  {
   "cell_type": "markdown",
   "id": "6161e6cf",
   "metadata": {},
   "source": [
    "##### Теперь сравним Macbook Pro Laptop и Apple Airpods Headphones и проверим гипотезу"
   ]
  },
  {
   "cell_type": "code",
   "execution_count": 1028,
   "id": "a010ba21",
   "metadata": {
    "scrolled": true
   },
   "outputs": [
    {
     "name": "stdout",
     "output_type": "stream",
     "text": [
      "t-статистика: -5.032036597323782\n",
      "p-значение: 4.894469180974062e-07\n",
      "Результат статистически значим: продажи различаются между типами продуктов\n"
     ]
    }
   ],
   "source": [
    "air = all_data[all_data['Product'] == 'Apple Airpods Headphones']['Quantity Ordered']\n",
    "mac = all_data[all_data['Product'] == 'Macbook Pro Laptop']['Quantity Ordered']\n",
    "# Проверяем гипотезу о равенстве средних значений продаж двух типов продуктов\n",
    "t_stat, p_value = ttest_ind(mac, air)\n",
    "\n",
    "# Выводим результаты теста\n",
    "print(\"t-статистика:\", t_stat)\n",
    "print(\"p-значение:\", p_value)\n",
    "if p_value < 0.05:\n",
    "    print(\"Результат статистически значим: продажи различаются между типами продуктов\")\n",
    "else:\n",
    "    print(\"Результат статистически незначим: продажи не различаются между типами продуктов\")"
   ]
  },
  {
   "cell_type": "markdown",
   "id": "e556438e",
   "metadata": {},
   "source": [
    "##### Проверим гипотезу о том, что продажи электронных приборов в разных городах не отличаются друг от друга."
   ]
  },
  {
   "cell_type": "code",
   "execution_count": 1038,
   "id": "fd71375b",
   "metadata": {},
   "outputs": [
    {
     "name": "stdout",
     "output_type": "stream",
     "text": [
      "Не отвергаем нулевую гипотезу: продажи в городах не отличаются друг от друга\n"
     ]
    }
   ],
   "source": [
    "# разделение данных на две выборки по городам\n",
    "LA = all_data[all_data['city'] == 'Los Angeles']['income']\n",
    "NY = all_data[all_data['city'] == 'New York City']['income']\n",
    "\n",
    "# тестирование гипотезы\n",
    "t_statistic, p_value = ttest_ind(LA, NY)\n",
    "\n",
    "# вывод результатов\n",
    "if p_value < 0.05:\n",
    "    print(\"Отвергаем нулевую гипотезу: продажи в городах отличаются друг от друга\")\n",
    "else:\n",
    "    print(\"Не отвергаем нулевую гипотезу: продажи в городах не отличаются друг от друга\")"
   ]
  },
  {
   "cell_type": "markdown",
   "id": "789c53c2",
   "metadata": {},
   "source": [
    "# Шаг 7. Машинное обучение"
   ]
  },
  {
   "cell_type": "code",
   "execution_count": 991,
   "id": "f8af08c0",
   "metadata": {},
   "outputs": [
    {
     "data": {
      "text/html": [
       "<div>\n",
       "<style scoped>\n",
       "    .dataframe tbody tr th:only-of-type {\n",
       "        vertical-align: middle;\n",
       "    }\n",
       "\n",
       "    .dataframe tbody tr th {\n",
       "        vertical-align: top;\n",
       "    }\n",
       "\n",
       "    .dataframe thead tr th {\n",
       "        text-align: left;\n",
       "    }\n",
       "\n",
       "    .dataframe thead tr:last-of-type th {\n",
       "        text-align: right;\n",
       "    }\n",
       "</style>\n",
       "<table border=\"1\" class=\"dataframe\">\n",
       "  <thead>\n",
       "    <tr>\n",
       "      <th></th>\n",
       "      <th colspan=\"12\" halign=\"left\">income</th>\n",
       "    </tr>\n",
       "    <tr>\n",
       "      <th>Months</th>\n",
       "      <th>1</th>\n",
       "      <th>2</th>\n",
       "      <th>3</th>\n",
       "      <th>4</th>\n",
       "      <th>5</th>\n",
       "      <th>6</th>\n",
       "      <th>7</th>\n",
       "      <th>8</th>\n",
       "      <th>9</th>\n",
       "      <th>10</th>\n",
       "      <th>11</th>\n",
       "      <th>12</th>\n",
       "    </tr>\n",
       "    <tr>\n",
       "      <th>Product</th>\n",
       "      <th></th>\n",
       "      <th></th>\n",
       "      <th></th>\n",
       "      <th></th>\n",
       "      <th></th>\n",
       "      <th></th>\n",
       "      <th></th>\n",
       "      <th></th>\n",
       "      <th></th>\n",
       "      <th></th>\n",
       "      <th></th>\n",
       "      <th></th>\n",
       "    </tr>\n",
       "  </thead>\n",
       "  <tbody>\n",
       "    <tr>\n",
       "      <th>20in Monitor</th>\n",
       "      <td>23977.82</td>\n",
       "      <td>27057.54</td>\n",
       "      <td>35856.74</td>\n",
       "      <td>43226.07</td>\n",
       "      <td>37506.59</td>\n",
       "      <td>35416.78</td>\n",
       "      <td>35966.73</td>\n",
       "      <td>28707.39</td>\n",
       "      <td>30467.23</td>\n",
       "      <td>47185.71</td>\n",
       "      <td>46195.80</td>\n",
       "      <td>62584.31</td>\n",
       "    </tr>\n",
       "    <tr>\n",
       "      <th>27in 4K Gaming Monitor</th>\n",
       "      <td>122066.87</td>\n",
       "      <td>166525.73</td>\n",
       "      <td>186805.21</td>\n",
       "      <td>220734.34</td>\n",
       "      <td>211374.58</td>\n",
       "      <td>175885.49</td>\n",
       "      <td>188365.17</td>\n",
       "      <td>171595.60</td>\n",
       "      <td>148586.19</td>\n",
       "      <td>281962.77</td>\n",
       "      <td>224244.25</td>\n",
       "      <td>336951.36</td>\n",
       "    </tr>\n",
       "    <tr>\n",
       "      <th>27in FHD Monitor</th>\n",
       "      <td>63295.78</td>\n",
       "      <td>71245.25</td>\n",
       "      <td>91193.92</td>\n",
       "      <td>110392.64</td>\n",
       "      <td>103343.11</td>\n",
       "      <td>85044.33</td>\n",
       "      <td>91043.93</td>\n",
       "      <td>73645.09</td>\n",
       "      <td>72445.17</td>\n",
       "      <td>118642.09</td>\n",
       "      <td>107842.81</td>\n",
       "      <td>144290.38</td>\n",
       "    </tr>\n",
       "    <tr>\n",
       "      <th>34in Ultrawide Monitor</th>\n",
       "      <td>119316.86</td>\n",
       "      <td>158835.82</td>\n",
       "      <td>198354.78</td>\n",
       "      <td>248513.46</td>\n",
       "      <td>206714.56</td>\n",
       "      <td>172895.45</td>\n",
       "      <td>175555.38</td>\n",
       "      <td>144396.20</td>\n",
       "      <td>144016.21</td>\n",
       "      <td>254973.29</td>\n",
       "      <td>209374.49</td>\n",
       "      <td>322611.51</td>\n",
       "    </tr>\n",
       "    <tr>\n",
       "      <th>AA Batteries (4-pack)</th>\n",
       "      <td>5468.16</td>\n",
       "      <td>6662.40</td>\n",
       "      <td>8509.44</td>\n",
       "      <td>10832.64</td>\n",
       "      <td>9154.56</td>\n",
       "      <td>8048.64</td>\n",
       "      <td>7952.64</td>\n",
       "      <td>7019.52</td>\n",
       "      <td>6800.64</td>\n",
       "      <td>11289.60</td>\n",
       "      <td>10080.00</td>\n",
       "      <td>14300.16</td>\n",
       "    </tr>\n",
       "    <tr>\n",
       "      <th>AAA Batteries (4-pack)</th>\n",
       "      <td>4784.00</td>\n",
       "      <td>5896.28</td>\n",
       "      <td>7412.21</td>\n",
       "      <td>8787.61</td>\n",
       "      <td>8751.73</td>\n",
       "      <td>6464.38</td>\n",
       "      <td>7071.35</td>\n",
       "      <td>6042.79</td>\n",
       "      <td>5749.77</td>\n",
       "      <td>10055.37</td>\n",
       "      <td>9044.75</td>\n",
       "      <td>12680.59</td>\n",
       "    </tr>\n",
       "    <tr>\n",
       "      <th>Apple Airpods Headphones</th>\n",
       "      <td>122700.00</td>\n",
       "      <td>151800.00</td>\n",
       "      <td>198300.00</td>\n",
       "      <td>227850.00</td>\n",
       "      <td>204750.00</td>\n",
       "      <td>175050.00</td>\n",
       "      <td>183000.00</td>\n",
       "      <td>151350.00</td>\n",
       "      <td>145350.00</td>\n",
       "      <td>250650.00</td>\n",
       "      <td>226950.00</td>\n",
       "      <td>311400.00</td>\n",
       "    </tr>\n",
       "    <tr>\n",
       "      <th>Bose SoundSport Headphones</th>\n",
       "      <td>66193.38</td>\n",
       "      <td>84091.59</td>\n",
       "      <td>119788.02</td>\n",
       "      <td>128687.13</td>\n",
       "      <td>117588.24</td>\n",
       "      <td>98290.17</td>\n",
       "      <td>105989.40</td>\n",
       "      <td>88091.19</td>\n",
       "      <td>82791.72</td>\n",
       "      <td>146485.35</td>\n",
       "      <td>125187.48</td>\n",
       "      <td>182381.76</td>\n",
       "    </tr>\n",
       "    <tr>\n",
       "      <th>Flatscreen TV</th>\n",
       "      <td>73200.00</td>\n",
       "      <td>93900.00</td>\n",
       "      <td>108600.00</td>\n",
       "      <td>138000.00</td>\n",
       "      <td>119700.00</td>\n",
       "      <td>110100.00</td>\n",
       "      <td>119700.00</td>\n",
       "      <td>99300.00</td>\n",
       "      <td>88200.00</td>\n",
       "      <td>157200.00</td>\n",
       "      <td>138000.00</td>\n",
       "      <td>199800.00</td>\n",
       "    </tr>\n",
       "    <tr>\n",
       "      <th>Google Phone</th>\n",
       "      <td>191400.00</td>\n",
       "      <td>228600.00</td>\n",
       "      <td>277800.00</td>\n",
       "      <td>348000.00</td>\n",
       "      <td>288000.00</td>\n",
       "      <td>234600.00</td>\n",
       "      <td>246600.00</td>\n",
       "      <td>216600.00</td>\n",
       "      <td>204600.00</td>\n",
       "      <td>358200.00</td>\n",
       "      <td>295800.00</td>\n",
       "      <td>429000.00</td>\n",
       "    </tr>\n",
       "    <tr>\n",
       "      <th>LG Dryer</th>\n",
       "      <td>23400.00</td>\n",
       "      <td>22800.00</td>\n",
       "      <td>29400.00</td>\n",
       "      <td>46800.00</td>\n",
       "      <td>45600.00</td>\n",
       "      <td>25800.00</td>\n",
       "      <td>33000.00</td>\n",
       "      <td>27600.00</td>\n",
       "      <td>18000.00</td>\n",
       "      <td>30000.00</td>\n",
       "      <td>33600.00</td>\n",
       "      <td>51600.00</td>\n",
       "    </tr>\n",
       "    <tr>\n",
       "      <th>LG Washing Machine</th>\n",
       "      <td>25200.00</td>\n",
       "      <td>24000.00</td>\n",
       "      <td>38400.00</td>\n",
       "      <td>36600.00</td>\n",
       "      <td>38400.00</td>\n",
       "      <td>33000.00</td>\n",
       "      <td>31200.00</td>\n",
       "      <td>28800.00</td>\n",
       "      <td>27600.00</td>\n",
       "      <td>36600.00</td>\n",
       "      <td>31800.00</td>\n",
       "      <td>48000.00</td>\n",
       "    </tr>\n",
       "    <tr>\n",
       "      <th>Lightning Charging Cable</th>\n",
       "      <td>17267.25</td>\n",
       "      <td>22410.05</td>\n",
       "      <td>28001.35</td>\n",
       "      <td>35476.35</td>\n",
       "      <td>31021.25</td>\n",
       "      <td>25220.65</td>\n",
       "      <td>27074.45</td>\n",
       "      <td>21572.85</td>\n",
       "      <td>21408.40</td>\n",
       "      <td>38451.40</td>\n",
       "      <td>33039.50</td>\n",
       "      <td>46150.65</td>\n",
       "    </tr>\n",
       "    <tr>\n",
       "      <th>Macbook Pro Laptop</th>\n",
       "      <td>399500.00</td>\n",
       "      <td>469200.00</td>\n",
       "      <td>644300.00</td>\n",
       "      <td>771800.00</td>\n",
       "      <td>790500.00</td>\n",
       "      <td>605200.00</td>\n",
       "      <td>625600.00</td>\n",
       "      <td>508300.00</td>\n",
       "      <td>489600.00</td>\n",
       "      <td>892500.00</td>\n",
       "      <td>748000.00</td>\n",
       "      <td>1093100.00</td>\n",
       "    </tr>\n",
       "    <tr>\n",
       "      <th>ThinkPad Laptop</th>\n",
       "      <td>218997.81</td>\n",
       "      <td>274997.25</td>\n",
       "      <td>344996.55</td>\n",
       "      <td>389996.10</td>\n",
       "      <td>370996.29</td>\n",
       "      <td>313996.86</td>\n",
       "      <td>318996.81</td>\n",
       "      <td>273997.26</td>\n",
       "      <td>248997.51</td>\n",
       "      <td>460995.39</td>\n",
       "      <td>373996.26</td>\n",
       "      <td>538994.61</td>\n",
       "    </tr>\n",
       "    <tr>\n",
       "      <th>USB-C Charging Cable</th>\n",
       "      <td>15379.65</td>\n",
       "      <td>19765.30</td>\n",
       "      <td>23230.80</td>\n",
       "      <td>27114.55</td>\n",
       "      <td>24712.60</td>\n",
       "      <td>20016.25</td>\n",
       "      <td>22095.55</td>\n",
       "      <td>17470.90</td>\n",
       "      <td>19048.30</td>\n",
       "      <td>31870.65</td>\n",
       "      <td>26959.20</td>\n",
       "      <td>38837.50</td>\n",
       "    </tr>\n",
       "    <tr>\n",
       "      <th>Vareebadd Phone</th>\n",
       "      <td>50400.00</td>\n",
       "      <td>51600.00</td>\n",
       "      <td>69600.00</td>\n",
       "      <td>88000.00</td>\n",
       "      <td>74000.00</td>\n",
       "      <td>62000.00</td>\n",
       "      <td>58400.00</td>\n",
       "      <td>57200.00</td>\n",
       "      <td>50400.00</td>\n",
       "      <td>81200.00</td>\n",
       "      <td>70800.00</td>\n",
       "      <td>113600.00</td>\n",
       "    </tr>\n",
       "    <tr>\n",
       "      <th>Wired Headphones</th>\n",
       "      <td>13009.15</td>\n",
       "      <td>15335.21</td>\n",
       "      <td>19951.36</td>\n",
       "      <td>24759.35</td>\n",
       "      <td>22493.24</td>\n",
       "      <td>17673.26</td>\n",
       "      <td>18764.35</td>\n",
       "      <td>15479.09</td>\n",
       "      <td>15598.99</td>\n",
       "      <td>27265.26</td>\n",
       "      <td>23188.66</td>\n",
       "      <td>32960.51</td>\n",
       "    </tr>\n",
       "    <tr>\n",
       "      <th>iPhone</th>\n",
       "      <td>266700.00</td>\n",
       "      <td>307300.00</td>\n",
       "      <td>376600.00</td>\n",
       "      <td>485100.00</td>\n",
       "      <td>448000.00</td>\n",
       "      <td>373100.00</td>\n",
       "      <td>351400.00</td>\n",
       "      <td>307300.00</td>\n",
       "      <td>277900.00</td>\n",
       "      <td>501200.00</td>\n",
       "      <td>465500.00</td>\n",
       "      <td>634200.00</td>\n",
       "    </tr>\n",
       "  </tbody>\n",
       "</table>\n",
       "</div>"
      ],
      "text/plain": [
       "                               income                                   \\\n",
       "Months                             1          2          3          4    \n",
       "Product                                                                  \n",
       "20in Monitor                 23977.82   27057.54   35856.74   43226.07   \n",
       "27in 4K Gaming Monitor      122066.87  166525.73  186805.21  220734.34   \n",
       "27in FHD Monitor             63295.78   71245.25   91193.92  110392.64   \n",
       "34in Ultrawide Monitor      119316.86  158835.82  198354.78  248513.46   \n",
       "AA Batteries (4-pack)         5468.16    6662.40    8509.44   10832.64   \n",
       "AAA Batteries (4-pack)        4784.00    5896.28    7412.21    8787.61   \n",
       "Apple Airpods Headphones    122700.00  151800.00  198300.00  227850.00   \n",
       "Bose SoundSport Headphones   66193.38   84091.59  119788.02  128687.13   \n",
       "Flatscreen TV                73200.00   93900.00  108600.00  138000.00   \n",
       "Google Phone                191400.00  228600.00  277800.00  348000.00   \n",
       "LG Dryer                     23400.00   22800.00   29400.00   46800.00   \n",
       "LG Washing Machine           25200.00   24000.00   38400.00   36600.00   \n",
       "Lightning Charging Cable     17267.25   22410.05   28001.35   35476.35   \n",
       "Macbook Pro Laptop          399500.00  469200.00  644300.00  771800.00   \n",
       "ThinkPad Laptop             218997.81  274997.25  344996.55  389996.10   \n",
       "USB-C Charging Cable         15379.65   19765.30   23230.80   27114.55   \n",
       "Vareebadd Phone              50400.00   51600.00   69600.00   88000.00   \n",
       "Wired Headphones             13009.15   15335.21   19951.36   24759.35   \n",
       "iPhone                      266700.00  307300.00  376600.00  485100.00   \n",
       "\n",
       "                                                                        \\\n",
       "Months                             5          6          7          8    \n",
       "Product                                                                  \n",
       "20in Monitor                 37506.59   35416.78   35966.73   28707.39   \n",
       "27in 4K Gaming Monitor      211374.58  175885.49  188365.17  171595.60   \n",
       "27in FHD Monitor            103343.11   85044.33   91043.93   73645.09   \n",
       "34in Ultrawide Monitor      206714.56  172895.45  175555.38  144396.20   \n",
       "AA Batteries (4-pack)         9154.56    8048.64    7952.64    7019.52   \n",
       "AAA Batteries (4-pack)        8751.73    6464.38    7071.35    6042.79   \n",
       "Apple Airpods Headphones    204750.00  175050.00  183000.00  151350.00   \n",
       "Bose SoundSport Headphones  117588.24   98290.17  105989.40   88091.19   \n",
       "Flatscreen TV               119700.00  110100.00  119700.00   99300.00   \n",
       "Google Phone                288000.00  234600.00  246600.00  216600.00   \n",
       "LG Dryer                     45600.00   25800.00   33000.00   27600.00   \n",
       "LG Washing Machine           38400.00   33000.00   31200.00   28800.00   \n",
       "Lightning Charging Cable     31021.25   25220.65   27074.45   21572.85   \n",
       "Macbook Pro Laptop          790500.00  605200.00  625600.00  508300.00   \n",
       "ThinkPad Laptop             370996.29  313996.86  318996.81  273997.26   \n",
       "USB-C Charging Cable         24712.60   20016.25   22095.55   17470.90   \n",
       "Vareebadd Phone              74000.00   62000.00   58400.00   57200.00   \n",
       "Wired Headphones             22493.24   17673.26   18764.35   15479.09   \n",
       "iPhone                      448000.00  373100.00  351400.00  307300.00   \n",
       "\n",
       "                                                                         \n",
       "Months                             9          10         11          12  \n",
       "Product                                                                  \n",
       "20in Monitor                 30467.23   47185.71   46195.80    62584.31  \n",
       "27in 4K Gaming Monitor      148586.19  281962.77  224244.25   336951.36  \n",
       "27in FHD Monitor             72445.17  118642.09  107842.81   144290.38  \n",
       "34in Ultrawide Monitor      144016.21  254973.29  209374.49   322611.51  \n",
       "AA Batteries (4-pack)         6800.64   11289.60   10080.00    14300.16  \n",
       "AAA Batteries (4-pack)        5749.77   10055.37    9044.75    12680.59  \n",
       "Apple Airpods Headphones    145350.00  250650.00  226950.00   311400.00  \n",
       "Bose SoundSport Headphones   82791.72  146485.35  125187.48   182381.76  \n",
       "Flatscreen TV                88200.00  157200.00  138000.00   199800.00  \n",
       "Google Phone                204600.00  358200.00  295800.00   429000.00  \n",
       "LG Dryer                     18000.00   30000.00   33600.00    51600.00  \n",
       "LG Washing Machine           27600.00   36600.00   31800.00    48000.00  \n",
       "Lightning Charging Cable     21408.40   38451.40   33039.50    46150.65  \n",
       "Macbook Pro Laptop          489600.00  892500.00  748000.00  1093100.00  \n",
       "ThinkPad Laptop             248997.51  460995.39  373996.26   538994.61  \n",
       "USB-C Charging Cable         19048.30   31870.65   26959.20    38837.50  \n",
       "Vareebadd Phone              50400.00   81200.00   70800.00   113600.00  \n",
       "Wired Headphones             15598.99   27265.26   23188.66    32960.51  \n",
       "iPhone                      277900.00  501200.00  465500.00   634200.00  "
      ]
     },
     "execution_count": 991,
     "metadata": {},
     "output_type": "execute_result"
    }
   ],
   "source": [
    "income_table = pd.pivot_table(all_data, index=[\"Product\"], values=[\"income\"], columns=['Months'], aggfunc=np.sum)\n",
    "income_table"
   ]
  },
  {
   "cell_type": "code",
   "execution_count": 992,
   "id": "731beb2b",
   "metadata": {},
   "outputs": [],
   "source": [
    "df_train, df_test = train_test_split(income_table, test_size=0.2, random_state=20)"
   ]
  },
  {
   "cell_type": "code",
   "execution_count": 993,
   "id": "59c5aa9a",
   "metadata": {},
   "outputs": [
    {
     "data": {
      "text/plain": [
       "Product\n",
       "iPhone                         634200.00\n",
       "Vareebadd Phone                113600.00\n",
       "ThinkPad Laptop                538994.61\n",
       "AAA Batteries (4-pack)          12680.59\n",
       "Flatscreen TV                  199800.00\n",
       "Macbook Pro Laptop            1093100.00\n",
       "20in Monitor                    62584.31\n",
       "27in FHD Monitor               144290.38\n",
       "Bose SoundSport Headphones     182381.76\n",
       "Apple Airpods Headphones       311400.00\n",
       "LG Washing Machine              48000.00\n",
       "AA Batteries (4-pack)           14300.16\n",
       "Google Phone                   429000.00\n",
       "USB-C Charging Cable            38837.50\n",
       "34in Ultrawide Monitor         322611.51\n",
       "Name: (income, 12), dtype: float64"
      ]
     },
     "execution_count": 993,
     "metadata": {},
     "output_type": "execute_result"
    }
   ],
   "source": [
    "df_train[('income', 12)]"
   ]
  },
  {
   "cell_type": "code",
   "execution_count": 994,
   "id": "cbb769e4",
   "metadata": {},
   "outputs": [],
   "source": [
    "y_train = df_train[('income', 12)]  # колонка '12'. Целевые метки на трейне \n",
    "X_train = df_train.drop(('income', 12), axis=1) # все колонки кроме '12'-a. Признаки на трейне.\n",
    "\n",
    "y_test = df_test[('income', 12)]   # колонка '12'. Целевые метки на тесте\n",
    "X_test = df_test.drop(('income', 12), axis=1)   # все колонки кроме '12'-a. Признаки на тесте."
   ]
  },
  {
   "cell_type": "code",
   "execution_count": 995,
   "id": "ef8c3987",
   "metadata": {},
   "outputs": [],
   "source": [
    "# разбили на тест и трейн"
   ]
  },
  {
   "cell_type": "code",
   "execution_count": 996,
   "id": "a11be50d",
   "metadata": {},
   "outputs": [
    {
     "data": {
      "text/plain": [
       "Product\n",
       "iPhone                         634200.00\n",
       "Vareebadd Phone                113600.00\n",
       "ThinkPad Laptop                538994.61\n",
       "AAA Batteries (4-pack)          12680.59\n",
       "Flatscreen TV                  199800.00\n",
       "Macbook Pro Laptop            1093100.00\n",
       "20in Monitor                    62584.31\n",
       "27in FHD Monitor               144290.38\n",
       "Bose SoundSport Headphones     182381.76\n",
       "Apple Airpods Headphones       311400.00\n",
       "LG Washing Machine              48000.00\n",
       "AA Batteries (4-pack)           14300.16\n",
       "Google Phone                   429000.00\n",
       "USB-C Charging Cable            38837.50\n",
       "34in Ultrawide Monitor         322611.51\n",
       "Name: (income, 12), dtype: float64"
      ]
     },
     "execution_count": 996,
     "metadata": {},
     "output_type": "execute_result"
    }
   ],
   "source": [
    "y_train"
   ]
  },
  {
   "cell_type": "code",
   "execution_count": 997,
   "id": "085d924e",
   "metadata": {},
   "outputs": [
    {
     "data": {
      "text/html": [
       "<div>\n",
       "<style scoped>\n",
       "    .dataframe tbody tr th:only-of-type {\n",
       "        vertical-align: middle;\n",
       "    }\n",
       "\n",
       "    .dataframe tbody tr th {\n",
       "        vertical-align: top;\n",
       "    }\n",
       "\n",
       "    .dataframe thead tr th {\n",
       "        text-align: left;\n",
       "    }\n",
       "\n",
       "    .dataframe thead tr:last-of-type th {\n",
       "        text-align: right;\n",
       "    }\n",
       "</style>\n",
       "<table border=\"1\" class=\"dataframe\">\n",
       "  <thead>\n",
       "    <tr>\n",
       "      <th></th>\n",
       "      <th colspan=\"11\" halign=\"left\">income</th>\n",
       "    </tr>\n",
       "    <tr>\n",
       "      <th>Months</th>\n",
       "      <th>1</th>\n",
       "      <th>2</th>\n",
       "      <th>3</th>\n",
       "      <th>4</th>\n",
       "      <th>5</th>\n",
       "      <th>6</th>\n",
       "      <th>7</th>\n",
       "      <th>8</th>\n",
       "      <th>9</th>\n",
       "      <th>10</th>\n",
       "      <th>11</th>\n",
       "    </tr>\n",
       "    <tr>\n",
       "      <th>Product</th>\n",
       "      <th></th>\n",
       "      <th></th>\n",
       "      <th></th>\n",
       "      <th></th>\n",
       "      <th></th>\n",
       "      <th></th>\n",
       "      <th></th>\n",
       "      <th></th>\n",
       "      <th></th>\n",
       "      <th></th>\n",
       "      <th></th>\n",
       "    </tr>\n",
       "  </thead>\n",
       "  <tbody>\n",
       "    <tr>\n",
       "      <th>Lightning Charging Cable</th>\n",
       "      <td>17267.25</td>\n",
       "      <td>22410.05</td>\n",
       "      <td>28001.35</td>\n",
       "      <td>35476.35</td>\n",
       "      <td>31021.25</td>\n",
       "      <td>25220.65</td>\n",
       "      <td>27074.45</td>\n",
       "      <td>21572.85</td>\n",
       "      <td>21408.40</td>\n",
       "      <td>38451.40</td>\n",
       "      <td>33039.50</td>\n",
       "    </tr>\n",
       "    <tr>\n",
       "      <th>27in 4K Gaming Monitor</th>\n",
       "      <td>122066.87</td>\n",
       "      <td>166525.73</td>\n",
       "      <td>186805.21</td>\n",
       "      <td>220734.34</td>\n",
       "      <td>211374.58</td>\n",
       "      <td>175885.49</td>\n",
       "      <td>188365.17</td>\n",
       "      <td>171595.60</td>\n",
       "      <td>148586.19</td>\n",
       "      <td>281962.77</td>\n",
       "      <td>224244.25</td>\n",
       "    </tr>\n",
       "    <tr>\n",
       "      <th>LG Dryer</th>\n",
       "      <td>23400.00</td>\n",
       "      <td>22800.00</td>\n",
       "      <td>29400.00</td>\n",
       "      <td>46800.00</td>\n",
       "      <td>45600.00</td>\n",
       "      <td>25800.00</td>\n",
       "      <td>33000.00</td>\n",
       "      <td>27600.00</td>\n",
       "      <td>18000.00</td>\n",
       "      <td>30000.00</td>\n",
       "      <td>33600.00</td>\n",
       "    </tr>\n",
       "    <tr>\n",
       "      <th>Wired Headphones</th>\n",
       "      <td>13009.15</td>\n",
       "      <td>15335.21</td>\n",
       "      <td>19951.36</td>\n",
       "      <td>24759.35</td>\n",
       "      <td>22493.24</td>\n",
       "      <td>17673.26</td>\n",
       "      <td>18764.35</td>\n",
       "      <td>15479.09</td>\n",
       "      <td>15598.99</td>\n",
       "      <td>27265.26</td>\n",
       "      <td>23188.66</td>\n",
       "    </tr>\n",
       "  </tbody>\n",
       "</table>\n",
       "</div>"
      ],
      "text/plain": [
       "                             income                                   \\\n",
       "Months                           1          2          3          4    \n",
       "Product                                                                \n",
       "Lightning Charging Cable   17267.25   22410.05   28001.35   35476.35   \n",
       "27in 4K Gaming Monitor    122066.87  166525.73  186805.21  220734.34   \n",
       "LG Dryer                   23400.00   22800.00   29400.00   46800.00   \n",
       "Wired Headphones           13009.15   15335.21   19951.36   24759.35   \n",
       "\n",
       "                                                                      \\\n",
       "Months                           5          6          7          8    \n",
       "Product                                                                \n",
       "Lightning Charging Cable   31021.25   25220.65   27074.45   21572.85   \n",
       "27in 4K Gaming Monitor    211374.58  175885.49  188365.17  171595.60   \n",
       "LG Dryer                   45600.00   25800.00   33000.00   27600.00   \n",
       "Wired Headphones           22493.24   17673.26   18764.35   15479.09   \n",
       "\n",
       "                                                           \n",
       "Months                           9          10         11  \n",
       "Product                                                    \n",
       "Lightning Charging Cable   21408.40   38451.40   33039.50  \n",
       "27in 4K Gaming Monitor    148586.19  281962.77  224244.25  \n",
       "LG Dryer                   18000.00   30000.00   33600.00  \n",
       "Wired Headphones           15598.99   27265.26   23188.66  "
      ]
     },
     "execution_count": 997,
     "metadata": {},
     "output_type": "execute_result"
    }
   ],
   "source": [
    "X_test"
   ]
  },
  {
   "cell_type": "code",
   "execution_count": 998,
   "id": "d5bb8dec",
   "metadata": {},
   "outputs": [
    {
     "data": {
      "text/plain": [
       "LinearRegression()"
      ]
     },
     "execution_count": 998,
     "metadata": {},
     "output_type": "execute_result"
    }
   ],
   "source": [
    "# LinearRegression- т.е. подгрузили экземпляр нашей модели\n",
    "model = LinearRegression(fit_intercept=True, copy_X=True, n_jobs=None, positive=False)\n",
    "model.fit(X_train,y_train)    # обучали модель с дефолтными параметрами"
   ]
  },
  {
   "cell_type": "code",
   "execution_count": 999,
   "id": "47604573",
   "metadata": {},
   "outputs": [
    {
     "data": {
      "text/plain": [
       "array([-2.47371727,  0.0942572 , -0.43905607,  0.75457986,  0.20469884,\n",
       "        0.26281327, -1.81335759,  2.38428095,  1.91098806,  0.05941305,\n",
       "        0.4688455 ])"
      ]
     },
     "execution_count": 999,
     "metadata": {},
     "output_type": "execute_result"
    }
   ],
   "source": [
    "model.coef_     "
   ]
  },
  {
   "cell_type": "code",
   "execution_count": 1000,
   "id": "4a05ea29",
   "metadata": {},
   "outputs": [
    {
     "data": {
      "text/plain": [
       "-11.519184776581824"
      ]
     },
     "execution_count": 1000,
     "metadata": {},
     "output_type": "execute_result"
    }
   ],
   "source": [
    "model.intercept_"
   ]
  },
  {
   "cell_type": "markdown",
   "id": "dd78f494",
   "metadata": {},
   "source": [
    "##### Вывод\n",
    "1. Коэффициенты не равные нулю, поэтому существует зависимость между доходами каждого товара периода с января до ноября и доходами для каждого товара за декабрь 2019-го года.\n",
    "2. Согласено моделю, который с дефолтными параметрами и вообще над ним не разработали: \n",
    "Если доход каждого товара за январь растет на 1000 долларов, то доход каждого товара за декабрь уменьшается на 2473 долларов.\n",
    "Если доход каждого товара за ноябрь растет на 1000 долларов, то доход каждого товара за декабрь увеличивается на 468.85  долларов."
   ]
  },
  {
   "cell_type": "code",
   "execution_count": 1001,
   "id": "3e3340da",
   "metadata": {},
   "outputs": [
    {
     "data": {
      "text/plain": [
       "array([ 47866.61499376, 361156.02156592,  40672.23818714,  33606.54178114])"
      ]
     },
     "execution_count": 1001,
     "metadata": {},
     "output_type": "execute_result"
    }
   ],
   "source": [
    "y_test_pred = model.predict(X_test)\n",
    "y_test_pred          # получаем предсказания"
   ]
  },
  {
   "cell_type": "code",
   "execution_count": 1002,
   "id": "e6b55e05",
   "metadata": {},
   "outputs": [
    {
     "data": {
      "text/plain": [
       "array([ 634236.86563887,  112276.84981931,  538843.74346758,\n",
       "         12987.53096137,  199941.60223123, 1093169.67100231,\n",
       "         62995.05158643,  143441.54860241,  182032.38652365,\n",
       "        311630.3301562 ,   49121.73084022,   16225.14772719,\n",
       "        429515.14537571,   36908.94960443,  322454.26646308])"
      ]
     },
     "execution_count": 1002,
     "metadata": {},
     "output_type": "execute_result"
    }
   ],
   "source": [
    "y_train_pred = model.predict(X_train)\n",
    "y_train_pred"
   ]
  },
  {
   "cell_type": "code",
   "execution_count": 1003,
   "id": "4974a338",
   "metadata": {},
   "outputs": [
    {
     "name": "stdout",
     "output_type": "stream",
     "text": [
      "Test MSE = 177160878.1704\n",
      "Train MSE = 795437.7416\n"
     ]
    }
   ],
   "source": [
    "from sklearn.metrics import mean_absolute_percentage_error\n",
    "from sklearn.metrics import mean_squared_error\n",
    "from sklearn.metrics import mean_absolute_error\n",
    "print(\"Test MSE = %.4f\" % mean_squared_error(y_test, y_test_pred))\n",
    "print(\"Train MSE = %.4f\" % mean_squared_error(y_train, y_train_pred))   "
   ]
  },
  {
   "cell_type": "code",
   "execution_count": 1004,
   "id": "4289ea09",
   "metadata": {},
   "outputs": [
    {
     "name": "stdout",
     "output_type": "stream",
     "text": [
      "Test MAE = 9373.6050\n",
      "Train MAE = 634.4021\n"
     ]
    }
   ],
   "source": [
    "print(\"Test MAE = %.4f\" % mean_absolute_error(y_test, y_test_pred))\n",
    "print(\"Train MAE = %.4f\" % mean_absolute_error(y_train, y_train_pred))"
   ]
  },
  {
   "cell_type": "code",
   "execution_count": 1005,
   "id": "2a42c55e",
   "metadata": {},
   "outputs": [
    {
     "name": "stdout",
     "output_type": "stream",
     "text": [
      "Test MAPE = 0.0851\n",
      "Train MAPE = 0.0174\n"
     ]
    }
   ],
   "source": [
    "print(\"Test MAPE = %.4f\" % mean_absolute_percentage_error(y_test, y_test_pred))\n",
    "print(\"Train MAPE = %.4f\" % mean_absolute_percentage_error(y_train, y_train_pred))"
   ]
  },
  {
   "cell_type": "markdown",
   "id": "17953ea4",
   "metadata": {},
   "source": [
    "Вывод: Получается, что наша модель дает большую ошибку (среднюю квадратичную ошибку). Тогда можем сказать, что наша модель имеет плохое качество.\n",
    "У нас MSE, MAE, MAPE на тесте значительно больше, чем на трейне. Скорее всего модель переобучилась. Поэтому добавим регуляризацию и отнормируем данные."
   ]
  },
  {
   "cell_type": "code",
   "execution_count": 1006,
   "id": "5f6f08b5",
   "metadata": {},
   "outputs": [
    {
     "data": {
      "image/png": "[encoded data removed]",
      "text/plain": [
       "<Figure size 1600x500 with 3 Axes>"
      ]
     },
     "metadata": {},
     "output_type": "display_data"
    }
   ],
   "source": [
    "fig, axs = plt.subplots(figsize=(16, 5), ncols=3)\n",
    "for i, feature in enumerate([ ('income',  9),('income', 10), ('income', 11)]):\n",
    "    axs[i].scatter(X_train[feature], y_train, alpha=0.2)\n",
    "    axs[i].set_xlabel(feature)\n",
    "    axs[i].set_ylabel(\"Income\")\n",
    "plt.tight_layout()    "
   ]
  },
  {
   "cell_type": "markdown",
   "id": "3264bc96",
   "metadata": {},
   "source": [
    "### Описание графиков:\n",
    "Если посмотреть на облака рассеивания, видно, что между доходами для каждого товара  за сентябрь, октябрь, ноябрь 2019-го года и доходами для каждого товара  за декабрь 2019-го года есть линейная связь.\n",
    "\n",
    "###### Хотим добиться как можно высокого результата\n",
    "\n",
    "##### Нормировка данных"
   ]
  },
  {
   "cell_type": "code",
   "execution_count": 1007,
   "id": "dff34084",
   "metadata": {},
   "outputs": [],
   "source": [
    "scaler = StandardScaler()   \n",
    "\n",
    "X_train_scaled = scaler.fit_transform(X_train)\n",
    "X_test_scaled = scaler.transform(X_test)"
   ]
  },
  {
   "cell_type": "code",
   "execution_count": 1008,
   "id": "e9dfb545",
   "metadata": {},
   "outputs": [
    {
     "data": {
      "text/plain": [
       "array([[ 1.42600345,  1.34414464,  1.20433235,  1.34723495,  1.25130314,\n",
       "         1.34503475,  1.17407148,  1.27374532,  1.17910408,  1.17455387,\n",
       "         1.36652519],\n",
       "       [-0.53945732, -0.61272449, -0.58119493, -0.55726604, -0.5589144 ,\n",
       "        -0.57837059, -0.61114641, -0.5632181 , -0.58991483, -0.60466561,\n",
       "        -0.60823029],\n",
       "       [ 0.99254629,  1.09693207,  1.02052511,  0.8911144 ,  0.87859333,\n",
       "         0.97962397,  0.97664228,  1.02913951,  0.954361  ,  1.00423762,\n",
       "         0.90871543],\n",
       "       [-0.95395782, -0.96249453, -0.94288221, -0.93717054, -0.87472607,\n",
       "        -0.92172484, -0.92388642, -0.93896349, -0.93711087, -0.90605111,\n",
       "        -0.91720297],\n",
       "       [-0.33227976, -0.28900308, -0.35436899, -0.31746486, -0.33771937,\n",
       "        -0.28098776, -0.23765202, -0.25399715, -0.29598553, -0.28271161,\n",
       "        -0.27201653],\n",
       "       [ 2.63272185,  2.58316346,  2.76128887,  2.72225494,  2.90905583,\n",
       "         2.78001508,  2.84474296,  2.75007338,  2.82526365,  2.83219336,\n",
       "         2.77992377],\n",
       "       [-0.77954866, -0.80054765, -0.77744741, -0.77200287, -0.73554812,\n",
       "        -0.74272387, -0.74782994, -0.77249392, -0.7449102 , -0.7487582 ,\n",
       "        -0.73132955],\n",
       "       [-0.42227678, -0.46237962, -0.45560362, -0.44987041, -0.41688924,\n",
       "        -0.43589682, -0.41225041, -0.4424303 , -0.41849363, -0.44605205,\n",
       "        -0.42289841],\n",
       "       [-0.39594706, -0.36406673, -0.28929891, -0.3621296 , -0.34794062,\n",
       "        -0.35400316, -0.32118925, -0.33632491, -0.33803981, -0.3281014 ,\n",
       "        -0.33611989],\n",
       "       [ 0.11751362,  0.15410495,  0.16733068,  0.11345787,  0.07393571,\n",
       "         0.12057179,  0.14802816,  0.12830572,  0.14840757,  0.11316473,\n",
       "         0.1730164 ],\n",
       "       [-0.76844304, -0.82394697, -0.76265568, -0.80378166, -0.73122388,\n",
       "        -0.75766585, -0.77687312, -0.7718137 , -0.76720551, -0.79360177,\n",
       "        -0.80335434],\n",
       "       [-0.94774104, -0.95663142, -0.93650067, -0.92736252, -0.87277631,\n",
       "        -0.91193   , -0.91851682, -0.93178949, -0.92893941, -0.90082262,\n",
       "        -0.91202342],\n",
       "       [ 0.74177231,  0.74185446,  0.62970663,  0.68970011,  0.47687852,\n",
       "         0.48874533,  0.53553621,  0.60756147,  0.60913008,  0.568772  ,\n",
       "         0.5174854 ],\n",
       "       [-0.85767796, -0.85635508, -0.8508805 , -0.8492741 , -0.797473  ,\n",
       "        -0.83793911, -0.83234557, -0.85502499, -0.83370274, -0.81363642,\n",
       "        -0.82757373],\n",
       "       [ 0.08677192,  0.20795   ,  0.16764928,  0.21256031,  0.08344448,\n",
       "         0.10725108,  0.10266888,  0.07723064,  0.13803614,  0.13147921,\n",
       "         0.08508295]])"
      ]
     },
     "execution_count": 1008,
     "metadata": {},
     "output_type": "execute_result"
    }
   ],
   "source": [
    "X_train_scaled"
   ]
  },
  {
   "cell_type": "code",
   "execution_count": 1009,
   "id": "c67214b1",
   "metadata": {},
   "outputs": [
    {
     "data": {
      "text/plain": [
       "Product\n",
       "iPhone                         634200.00\n",
       "Vareebadd Phone                113600.00\n",
       "ThinkPad Laptop                538994.61\n",
       "AAA Batteries (4-pack)          12680.59\n",
       "Flatscreen TV                  199800.00\n",
       "Macbook Pro Laptop            1093100.00\n",
       "20in Monitor                    62584.31\n",
       "27in FHD Monitor               144290.38\n",
       "Bose SoundSport Headphones     182381.76\n",
       "Apple Airpods Headphones       311400.00\n",
       "LG Washing Machine              48000.00\n",
       "AA Batteries (4-pack)           14300.16\n",
       "Google Phone                   429000.00\n",
       "USB-C Charging Cable            38837.50\n",
       "34in Ultrawide Monitor         322611.51\n",
       "Name: (income, 12), dtype: float64"
      ]
     },
     "execution_count": 1009,
     "metadata": {},
     "output_type": "execute_result"
    }
   ],
   "source": [
    "y_train"
   ]
  },
  {
   "cell_type": "code",
   "execution_count": 1010,
   "id": "21d92217",
   "metadata": {},
   "outputs": [
    {
     "data": {
      "text/plain": [
       "Ridge()"
      ]
     },
     "execution_count": 1010,
     "metadata": {},
     "output_type": "execute_result"
    }
   ],
   "source": [
    "model_ridge = Ridge()   #подгрузили экземпляр модели\n",
    "model_ridge.fit(X_train_scaled,y_train)\n",
    "model_ridge                                              "
   ]
  },
  {
   "cell_type": "code",
   "execution_count": 1011,
   "id": "25fbf002",
   "metadata": {},
   "outputs": [
    {
     "data": {
      "text/plain": [
       "array([ 45514.063253  , 323333.86998128,  51020.83975746,  32098.52619079])"
      ]
     },
     "execution_count": 1011,
     "metadata": {},
     "output_type": "execute_result"
    }
   ],
   "source": [
    "y_test_predr = model_ridge.predict(X_test_scaled)\n",
    "y_test_predr  "
   ]
  },
  {
   "cell_type": "code",
   "execution_count": 1012,
   "id": "b990645c",
   "metadata": {},
   "outputs": [
    {
     "data": {
      "text/plain": [
       "array([ 640521.43985717,  109581.68378071,  553815.05555937,\n",
       "         11518.65349006,  191995.08033012, 1071491.32897528,\n",
       "         59907.69197864,  152269.82712764,  178833.4036472 ,\n",
       "        313987.45519393,   54222.66335837,   13345.12484813,\n",
       "        444771.05352592,   37437.37261852,  312082.98570895])"
      ]
     },
     "execution_count": 1012,
     "metadata": {},
     "output_type": "execute_result"
    }
   ],
   "source": [
    "y_train_predr = model_ridge.predict(X_train_scaled)\n",
    "y_train_predr  "
   ]
  },
  {
   "cell_type": "code",
   "execution_count": 1013,
   "id": "f3a5209e",
   "metadata": {},
   "outputs": [
    {
     "name": "stdout",
     "output_type": "stream",
     "text": [
      "Test MSE = 46729929.9426\n",
      "Train MSE = 86416410.8993\n"
     ]
    }
   ],
   "source": [
    "print(\"Test MSE = %.4f\" % mean_squared_error(y_test, y_test_predr))\n",
    "print(\"Train MSE = %.4f\" % mean_squared_error(y_train, y_train_predr))  "
   ]
  },
  {
   "cell_type": "code",
   "execution_count": 1014,
   "id": "5ad13535",
   "metadata": {},
   "outputs": [
    {
     "name": "stdout",
     "output_type": "stream",
     "text": [
      "Test MAE = 3923.8052\n",
      "Train MAE = 7160.3339\n"
     ]
    }
   ],
   "source": [
    "print(\"Test MAE = %.4f\" % mean_absolute_error(y_test, y_test_predr))\n",
    "print(\"Train MAE = %.4f\" % mean_absolute_error(y_train, y_train_predr))"
   ]
  },
  {
   "cell_type": "code",
   "execution_count": 1015,
   "id": "0c293bc6",
   "metadata": {},
   "outputs": [
    {
     "name": "stdout",
     "output_type": "stream",
     "text": [
      "Test MAPE = 0.0229\n",
      "Train MAPE = 0.0434\n"
     ]
    }
   ],
   "source": [
    "print(\"Test MAPE = %.4f\" % mean_absolute_percentage_error(y_test, y_test_predr))\n",
    "print(\"Train MAPE = %.4f\" % mean_absolute_percentage_error(y_train, y_train_predr))   "
   ]
  },
  {
   "cell_type": "markdown",
   "id": "d28ad945",
   "metadata": {},
   "source": [
    "Модель немного усложняли. MAPE данных на тесте и трейне раньше было 0.0851 и 0.0174 соответственно. Это означает переобучение модели. Модель работает на трейне хорошее, чем на тесте. А мы хотим, чтобы разница ошибок на трейне и тесте по возможности ближе друг к другу.\n",
    "Чтобы модель более качественно получилась, подбирем параметры по сетке.\n",
    "\n",
    "##### Подбор параметров\n",
    "\n",
    "Сначала подберем солвер, так как некоторые параметры не всегда могут работать с любыми солверами"
   ]
  },
  {
   "cell_type": "code",
   "execution_count": 1016,
   "id": "c21c055f",
   "metadata": {},
   "outputs": [
    {
     "name": "stdout",
     "output_type": "stream",
     "text": [
      "Комбинация параметров, которая лучше всего даст neg_root_mean_squared_error: : \n",
      "{'solver': 'sparse_cg'}\n",
      "Наилучшая neg_root_mean_squared_error, полученная после перебора параметров с помощью поиска по сетке :  -20151.98910340833\n"
     ]
    }
   ],
   "source": [
    "parameters = {'solver' :['sparse_cg', 'cholesky', 'svd' 'lsqr', 'sag', 'saga']}   \n",
    "grid = GridSearchCV(model_ridge, parameters, scoring= 'neg_root_mean_squared_error', cv=2)\n",
    "grid.fit(X_train_scaled,y_train)\n",
    "print('Комбинация параметров, которая лучше всего даст neg_root_mean_squared_error: : ')\n",
    "print(grid.best_params_)\n",
    "print('Наилучшая neg_root_mean_squared_error, полученная после перебора параметров с помощью поиска по сетке : ', grid.best_score_)"
   ]
  },
  {
   "cell_type": "code",
   "execution_count": 1017,
   "id": "24a977da",
   "metadata": {},
   "outputs": [],
   "source": [
    "model_r1 = Ridge(solver='sparse_cg')"
   ]
  },
  {
   "cell_type": "code",
   "execution_count": 1018,
   "id": "b26395e8",
   "metadata": {},
   "outputs": [
    {
     "name": "stdout",
     "output_type": "stream",
     "text": [
      "Комбинация параметров, которая лучше всего даст neg_root_mean_squared_error:: \n",
      "{'alpha': 0}\n",
      "Лучшая MSE:  -14387.692565160081\n"
     ]
    }
   ],
   "source": [
    "other_parameters = {'alpha':[0, 0,5, 1, 1.5]}                                # подберем остальные параметры\n",
    "grid_solver = GridSearchCV(estimator=model_r1, n_jobs=-1, param_grid = other_parameters, scoring='neg_root_mean_squared_error')\n",
    "grid_solver.fit(X_train_scaled, y_train)\n",
    "print('Комбинация параметров, которая лучше всего даст neg_root_mean_squared_error:: ')\n",
    "print(grid_solver.best_params_)\n",
    "print('Лучшая MSE: ', grid_solver.best_score_)"
   ]
  },
  {
   "cell_type": "markdown",
   "id": "7ce9ba88",
   "metadata": {},
   "source": [
    "###### Проверяем результаты подбора параметров"
   ]
  },
  {
   "cell_type": "code",
   "execution_count": 1019,
   "id": "74c55578",
   "metadata": {},
   "outputs": [
    {
     "data": {
      "text/plain": [
       "Ridge(alpha=0, solver='sparse_cg')"
      ]
     },
     "execution_count": 1019,
     "metadata": {},
     "output_type": "execute_result"
    }
   ],
   "source": [
    "model_ridgep = Ridge(solver='sparse_cg', alpha=0)\n",
    "model_ridgep"
   ]
  },
  {
   "cell_type": "code",
   "execution_count": 1020,
   "id": "2e71becf",
   "metadata": {},
   "outputs": [],
   "source": [
    "model_ridgep.fit(X_train_scaled,y_train) \n",
    "y_pred_test_ridgep = model_ridgep.predict(X_test_scaled)\n",
    "y_pred_train_ridgep = model_ridgep.predict(X_train_scaled)"
   ]
  },
  {
   "cell_type": "code",
   "execution_count": 1021,
   "id": "39e8790d",
   "metadata": {},
   "outputs": [
    {
     "name": "stdout",
     "output_type": "stream",
     "text": [
      "Test MSE = 62738106.4849\n",
      "Train MSE = 33261769.3173\n"
     ]
    }
   ],
   "source": [
    "print(\"Test MSE = %.4f\" % mean_squared_error(y_test, y_pred_test_ridgep))\n",
    "print(\"Train MSE = %.4f\" % mean_squared_error(y_train, y_pred_train_ridgep))  "
   ]
  },
  {
   "cell_type": "code",
   "execution_count": 1022,
   "id": "1eaf5ed9",
   "metadata": {},
   "outputs": [
    {
     "name": "stdout",
     "output_type": "stream",
     "text": [
      "Test MAE = 4914.6137\n",
      "Train MAE = 4063.1196\n"
     ]
    }
   ],
   "source": [
    "print(\"Test MAE = %.4f\" % mean_absolute_error(y_test, y_pred_test_ridgep))\n",
    "print(\"Train MAE = %.4f\" % mean_absolute_error(y_train, y_pred_train_ridgep))"
   ]
  },
  {
   "cell_type": "code",
   "execution_count": 1023,
   "id": "e44a6a63",
   "metadata": {},
   "outputs": [
    {
     "name": "stdout",
     "output_type": "stream",
     "text": [
      "Test MAPE = 0.0354\n",
      "Train MAPE = 0.0376\n"
     ]
    }
   ],
   "source": [
    "print(\"Test MAPE = %.4f\" % mean_absolute_percentage_error(y_test, y_pred_test_ridgep))\n",
    "print(\"Train MAPE = %.4f\" % mean_absolute_percentage_error(y_train, y_pred_train_ridgep))   "
   ]
  },
  {
   "cell_type": "markdown",
   "id": "b1880daf",
   "metadata": {},
   "source": [
    "Вывод: Этот результат похож на наш желаемый результат, так как мы раньше хотели обучить модель, которая делает MAPE на тесте и на трейне как можно ближе друг к другу и при этом она была меньше. Так и получилась с помощью перебор по сетке. "
   ]
  },
  {
   "cell_type": "markdown",
   "id": "4f829eaf",
   "metadata": {},
   "source": [
    "### Графики"
   ]
  },
  {
   "cell_type": "code",
   "execution_count": 1024,
   "id": "7479019d",
   "metadata": {
    "scrolled": true
   },
   "outputs": [
    {
     "data": {
      "text/html": [
       "<div>\n",
       "<style scoped>\n",
       "    .dataframe tbody tr th:only-of-type {\n",
       "        vertical-align: middle;\n",
       "    }\n",
       "\n",
       "    .dataframe tbody tr th {\n",
       "        vertical-align: top;\n",
       "    }\n",
       "\n",
       "    .dataframe thead tr th {\n",
       "        text-align: left;\n",
       "    }\n",
       "\n",
       "    .dataframe thead tr:last-of-type th {\n",
       "        text-align: right;\n",
       "    }\n",
       "</style>\n",
       "<table border=\"1\" class=\"dataframe\">\n",
       "  <thead>\n",
       "    <tr>\n",
       "      <th></th>\n",
       "      <th colspan=\"12\" halign=\"left\">income</th>\n",
       "      <th>Январь_2020</th>\n",
       "    </tr>\n",
       "    <tr>\n",
       "      <th>Months</th>\n",
       "      <th>1</th>\n",
       "      <th>2</th>\n",
       "      <th>3</th>\n",
       "      <th>4</th>\n",
       "      <th>5</th>\n",
       "      <th>6</th>\n",
       "      <th>7</th>\n",
       "      <th>8</th>\n",
       "      <th>9</th>\n",
       "      <th>10</th>\n",
       "      <th>11</th>\n",
       "      <th>12</th>\n",
       "      <th></th>\n",
       "    </tr>\n",
       "    <tr>\n",
       "      <th>Product</th>\n",
       "      <th></th>\n",
       "      <th></th>\n",
       "      <th></th>\n",
       "      <th></th>\n",
       "      <th></th>\n",
       "      <th></th>\n",
       "      <th></th>\n",
       "      <th></th>\n",
       "      <th></th>\n",
       "      <th></th>\n",
       "      <th></th>\n",
       "      <th></th>\n",
       "      <th></th>\n",
       "    </tr>\n",
       "  </thead>\n",
       "  <tbody>\n",
       "    <tr>\n",
       "      <th>20in Monitor</th>\n",
       "      <td>23977.82</td>\n",
       "      <td>27057.54</td>\n",
       "      <td>35856.74</td>\n",
       "      <td>43226.07</td>\n",
       "      <td>37506.59</td>\n",
       "      <td>35416.78</td>\n",
       "      <td>35966.73</td>\n",
       "      <td>28707.39</td>\n",
       "      <td>30467.23</td>\n",
       "      <td>47185.71</td>\n",
       "      <td>46195.80</td>\n",
       "      <td>62584.31</td>\n",
       "      <td>632602</td>\n",
       "    </tr>\n",
       "    <tr>\n",
       "      <th>27in 4K Gaming Monitor</th>\n",
       "      <td>122066.87</td>\n",
       "      <td>166525.73</td>\n",
       "      <td>186805.21</td>\n",
       "      <td>220734.34</td>\n",
       "      <td>211374.58</td>\n",
       "      <td>175885.49</td>\n",
       "      <td>188365.17</td>\n",
       "      <td>171595.60</td>\n",
       "      <td>148586.19</td>\n",
       "      <td>281962.77</td>\n",
       "      <td>224244.25</td>\n",
       "      <td>336951.36</td>\n",
       "      <td>107761</td>\n",
       "    </tr>\n",
       "    <tr>\n",
       "      <th>27in FHD Monitor</th>\n",
       "      <td>63295.78</td>\n",
       "      <td>71245.25</td>\n",
       "      <td>91193.92</td>\n",
       "      <td>110392.64</td>\n",
       "      <td>103343.11</td>\n",
       "      <td>85044.33</td>\n",
       "      <td>91043.93</td>\n",
       "      <td>73645.09</td>\n",
       "      <td>72445.17</td>\n",
       "      <td>118642.09</td>\n",
       "      <td>107842.81</td>\n",
       "      <td>144290.38</td>\n",
       "      <td>548021</td>\n",
       "    </tr>\n",
       "    <tr>\n",
       "      <th>34in Ultrawide Monitor</th>\n",
       "      <td>119316.86</td>\n",
       "      <td>158835.82</td>\n",
       "      <td>198354.78</td>\n",
       "      <td>248513.46</td>\n",
       "      <td>206714.56</td>\n",
       "      <td>172895.45</td>\n",
       "      <td>175555.38</td>\n",
       "      <td>144396.20</td>\n",
       "      <td>144016.21</td>\n",
       "      <td>254973.29</td>\n",
       "      <td>209374.49</td>\n",
       "      <td>322611.51</td>\n",
       "      <td>13810</td>\n",
       "    </tr>\n",
       "    <tr>\n",
       "      <th>AA Batteries (4-pack)</th>\n",
       "      <td>5468.16</td>\n",
       "      <td>6662.40</td>\n",
       "      <td>8509.44</td>\n",
       "      <td>10832.64</td>\n",
       "      <td>9154.56</td>\n",
       "      <td>8048.64</td>\n",
       "      <td>7952.64</td>\n",
       "      <td>7019.52</td>\n",
       "      <td>6800.64</td>\n",
       "      <td>11289.60</td>\n",
       "      <td>10080.00</td>\n",
       "      <td>14300.16</td>\n",
       "      <td>192643</td>\n",
       "    </tr>\n",
       "    <tr>\n",
       "      <th>AAA Batteries (4-pack)</th>\n",
       "      <td>4784.00</td>\n",
       "      <td>5896.28</td>\n",
       "      <td>7412.21</td>\n",
       "      <td>8787.61</td>\n",
       "      <td>8751.73</td>\n",
       "      <td>6464.38</td>\n",
       "      <td>7071.35</td>\n",
       "      <td>6042.79</td>\n",
       "      <td>5749.77</td>\n",
       "      <td>10055.37</td>\n",
       "      <td>9044.75</td>\n",
       "      <td>12680.59</td>\n",
       "      <td>1092893</td>\n",
       "    </tr>\n",
       "    <tr>\n",
       "      <th>Apple Airpods Headphones</th>\n",
       "      <td>122700.00</td>\n",
       "      <td>151800.00</td>\n",
       "      <td>198300.00</td>\n",
       "      <td>227850.00</td>\n",
       "      <td>204750.00</td>\n",
       "      <td>175050.00</td>\n",
       "      <td>183000.00</td>\n",
       "      <td>151350.00</td>\n",
       "      <td>145350.00</td>\n",
       "      <td>250650.00</td>\n",
       "      <td>226950.00</td>\n",
       "      <td>311400.00</td>\n",
       "      <td>62164</td>\n",
       "    </tr>\n",
       "    <tr>\n",
       "      <th>Bose SoundSport Headphones</th>\n",
       "      <td>66193.38</td>\n",
       "      <td>84091.59</td>\n",
       "      <td>119788.02</td>\n",
       "      <td>128687.13</td>\n",
       "      <td>117588.24</td>\n",
       "      <td>98290.17</td>\n",
       "      <td>105989.40</td>\n",
       "      <td>88091.19</td>\n",
       "      <td>82791.72</td>\n",
       "      <td>146485.35</td>\n",
       "      <td>125187.48</td>\n",
       "      <td>182381.76</td>\n",
       "      <td>153136</td>\n",
       "    </tr>\n",
       "    <tr>\n",
       "      <th>Flatscreen TV</th>\n",
       "      <td>73200.00</td>\n",
       "      <td>93900.00</td>\n",
       "      <td>108600.00</td>\n",
       "      <td>138000.00</td>\n",
       "      <td>119700.00</td>\n",
       "      <td>110100.00</td>\n",
       "      <td>119700.00</td>\n",
       "      <td>99300.00</td>\n",
       "      <td>88200.00</td>\n",
       "      <td>157200.00</td>\n",
       "      <td>138000.00</td>\n",
       "      <td>199800.00</td>\n",
       "      <td>180880</td>\n",
       "    </tr>\n",
       "    <tr>\n",
       "      <th>Google Phone</th>\n",
       "      <td>191400.00</td>\n",
       "      <td>228600.00</td>\n",
       "      <td>277800.00</td>\n",
       "      <td>348000.00</td>\n",
       "      <td>288000.00</td>\n",
       "      <td>234600.00</td>\n",
       "      <td>246600.00</td>\n",
       "      <td>216600.00</td>\n",
       "      <td>204600.00</td>\n",
       "      <td>358200.00</td>\n",
       "      <td>295800.00</td>\n",
       "      <td>429000.00</td>\n",
       "      <td>312804</td>\n",
       "    </tr>\n",
       "    <tr>\n",
       "      <th>LG Dryer</th>\n",
       "      <td>23400.00</td>\n",
       "      <td>22800.00</td>\n",
       "      <td>29400.00</td>\n",
       "      <td>46800.00</td>\n",
       "      <td>45600.00</td>\n",
       "      <td>25800.00</td>\n",
       "      <td>33000.00</td>\n",
       "      <td>27600.00</td>\n",
       "      <td>18000.00</td>\n",
       "      <td>30000.00</td>\n",
       "      <td>33600.00</td>\n",
       "      <td>51600.00</td>\n",
       "      <td>55276</td>\n",
       "    </tr>\n",
       "    <tr>\n",
       "      <th>LG Washing Machine</th>\n",
       "      <td>25200.00</td>\n",
       "      <td>24000.00</td>\n",
       "      <td>38400.00</td>\n",
       "      <td>36600.00</td>\n",
       "      <td>38400.00</td>\n",
       "      <td>33000.00</td>\n",
       "      <td>31200.00</td>\n",
       "      <td>28800.00</td>\n",
       "      <td>27600.00</td>\n",
       "      <td>36600.00</td>\n",
       "      <td>31800.00</td>\n",
       "      <td>48000.00</td>\n",
       "      <td>15533</td>\n",
       "    </tr>\n",
       "    <tr>\n",
       "      <th>Lightning Charging Cable</th>\n",
       "      <td>17267.25</td>\n",
       "      <td>22410.05</td>\n",
       "      <td>28001.35</td>\n",
       "      <td>35476.35</td>\n",
       "      <td>31021.25</td>\n",
       "      <td>25220.65</td>\n",
       "      <td>27074.45</td>\n",
       "      <td>21572.85</td>\n",
       "      <td>21408.40</td>\n",
       "      <td>38451.40</td>\n",
       "      <td>33039.50</td>\n",
       "      <td>46150.65</td>\n",
       "      <td>430407</td>\n",
       "    </tr>\n",
       "    <tr>\n",
       "      <th>Macbook Pro Laptop</th>\n",
       "      <td>399500.00</td>\n",
       "      <td>469200.00</td>\n",
       "      <td>644300.00</td>\n",
       "      <td>771800.00</td>\n",
       "      <td>790500.00</td>\n",
       "      <td>605200.00</td>\n",
       "      <td>625600.00</td>\n",
       "      <td>508300.00</td>\n",
       "      <td>489600.00</td>\n",
       "      <td>892500.00</td>\n",
       "      <td>748000.00</td>\n",
       "      <td>1093100.00</td>\n",
       "      <td>38985</td>\n",
       "    </tr>\n",
       "    <tr>\n",
       "      <th>ThinkPad Laptop</th>\n",
       "      <td>218997.81</td>\n",
       "      <td>274997.25</td>\n",
       "      <td>344996.55</td>\n",
       "      <td>389996.10</td>\n",
       "      <td>370996.29</td>\n",
       "      <td>313996.86</td>\n",
       "      <td>318996.81</td>\n",
       "      <td>273997.26</td>\n",
       "      <td>248997.51</td>\n",
       "      <td>460995.39</td>\n",
       "      <td>373996.26</td>\n",
       "      <td>538994.61</td>\n",
       "      <td>308858</td>\n",
       "    </tr>\n",
       "    <tr>\n",
       "      <th>USB-C Charging Cable</th>\n",
       "      <td>15379.65</td>\n",
       "      <td>19765.30</td>\n",
       "      <td>23230.80</td>\n",
       "      <td>27114.55</td>\n",
       "      <td>24712.60</td>\n",
       "      <td>20016.25</td>\n",
       "      <td>22095.55</td>\n",
       "      <td>17470.90</td>\n",
       "      <td>19048.30</td>\n",
       "      <td>31870.65</td>\n",
       "      <td>26959.20</td>\n",
       "      <td>38837.50</td>\n",
       "      <td>47694</td>\n",
       "    </tr>\n",
       "    <tr>\n",
       "      <th>Vareebadd Phone</th>\n",
       "      <td>50400.00</td>\n",
       "      <td>51600.00</td>\n",
       "      <td>69600.00</td>\n",
       "      <td>88000.00</td>\n",
       "      <td>74000.00</td>\n",
       "      <td>62000.00</td>\n",
       "      <td>58400.00</td>\n",
       "      <td>57200.00</td>\n",
       "      <td>50400.00</td>\n",
       "      <td>81200.00</td>\n",
       "      <td>70800.00</td>\n",
       "      <td>113600.00</td>\n",
       "      <td>321280</td>\n",
       "    </tr>\n",
       "    <tr>\n",
       "      <th>Wired Headphones</th>\n",
       "      <td>13009.15</td>\n",
       "      <td>15335.21</td>\n",
       "      <td>19951.36</td>\n",
       "      <td>24759.35</td>\n",
       "      <td>22493.24</td>\n",
       "      <td>17673.26</td>\n",
       "      <td>18764.35</td>\n",
       "      <td>15479.09</td>\n",
       "      <td>15598.99</td>\n",
       "      <td>27265.26</td>\n",
       "      <td>23188.66</td>\n",
       "      <td>32960.51</td>\n",
       "      <td>52726</td>\n",
       "    </tr>\n",
       "    <tr>\n",
       "      <th>iPhone</th>\n",
       "      <td>266700.00</td>\n",
       "      <td>307300.00</td>\n",
       "      <td>376600.00</td>\n",
       "      <td>485100.00</td>\n",
       "      <td>448000.00</td>\n",
       "      <td>373100.00</td>\n",
       "      <td>351400.00</td>\n",
       "      <td>307300.00</td>\n",
       "      <td>277900.00</td>\n",
       "      <td>501200.00</td>\n",
       "      <td>465500.00</td>\n",
       "      <td>634200.00</td>\n",
       "      <td>34277</td>\n",
       "    </tr>\n",
       "  </tbody>\n",
       "</table>\n",
       "</div>"
      ],
      "text/plain": [
       "                               income                                   \\\n",
       "Months                              1          2          3          4   \n",
       "Product                                                                  \n",
       "20in Monitor                 23977.82   27057.54   35856.74   43226.07   \n",
       "27in 4K Gaming Monitor      122066.87  166525.73  186805.21  220734.34   \n",
       "27in FHD Monitor             63295.78   71245.25   91193.92  110392.64   \n",
       "34in Ultrawide Monitor      119316.86  158835.82  198354.78  248513.46   \n",
       "AA Batteries (4-pack)         5468.16    6662.40    8509.44   10832.64   \n",
       "AAA Batteries (4-pack)        4784.00    5896.28    7412.21    8787.61   \n",
       "Apple Airpods Headphones    122700.00  151800.00  198300.00  227850.00   \n",
       "Bose SoundSport Headphones   66193.38   84091.59  119788.02  128687.13   \n",
       "Flatscreen TV                73200.00   93900.00  108600.00  138000.00   \n",
       "Google Phone                191400.00  228600.00  277800.00  348000.00   \n",
       "LG Dryer                     23400.00   22800.00   29400.00   46800.00   \n",
       "LG Washing Machine           25200.00   24000.00   38400.00   36600.00   \n",
       "Lightning Charging Cable     17267.25   22410.05   28001.35   35476.35   \n",
       "Macbook Pro Laptop          399500.00  469200.00  644300.00  771800.00   \n",
       "ThinkPad Laptop             218997.81  274997.25  344996.55  389996.10   \n",
       "USB-C Charging Cable         15379.65   19765.30   23230.80   27114.55   \n",
       "Vareebadd Phone              50400.00   51600.00   69600.00   88000.00   \n",
       "Wired Headphones             13009.15   15335.21   19951.36   24759.35   \n",
       "iPhone                      266700.00  307300.00  376600.00  485100.00   \n",
       "\n",
       "                                                                        \\\n",
       "Months                              5          6          7          8   \n",
       "Product                                                                  \n",
       "20in Monitor                 37506.59   35416.78   35966.73   28707.39   \n",
       "27in 4K Gaming Monitor      211374.58  175885.49  188365.17  171595.60   \n",
       "27in FHD Monitor            103343.11   85044.33   91043.93   73645.09   \n",
       "34in Ultrawide Monitor      206714.56  172895.45  175555.38  144396.20   \n",
       "AA Batteries (4-pack)         9154.56    8048.64    7952.64    7019.52   \n",
       "AAA Batteries (4-pack)        8751.73    6464.38    7071.35    6042.79   \n",
       "Apple Airpods Headphones    204750.00  175050.00  183000.00  151350.00   \n",
       "Bose SoundSport Headphones  117588.24   98290.17  105989.40   88091.19   \n",
       "Flatscreen TV               119700.00  110100.00  119700.00   99300.00   \n",
       "Google Phone                288000.00  234600.00  246600.00  216600.00   \n",
       "LG Dryer                     45600.00   25800.00   33000.00   27600.00   \n",
       "LG Washing Machine           38400.00   33000.00   31200.00   28800.00   \n",
       "Lightning Charging Cable     31021.25   25220.65   27074.45   21572.85   \n",
       "Macbook Pro Laptop          790500.00  605200.00  625600.00  508300.00   \n",
       "ThinkPad Laptop             370996.29  313996.86  318996.81  273997.26   \n",
       "USB-C Charging Cable         24712.60   20016.25   22095.55   17470.90   \n",
       "Vareebadd Phone              74000.00   62000.00   58400.00   57200.00   \n",
       "Wired Headphones             22493.24   17673.26   18764.35   15479.09   \n",
       "iPhone                      448000.00  373100.00  351400.00  307300.00   \n",
       "\n",
       "                                                                         \\\n",
       "Months                              9         10         11          12   \n",
       "Product                                                                   \n",
       "20in Monitor                 30467.23   47185.71   46195.80    62584.31   \n",
       "27in 4K Gaming Monitor      148586.19  281962.77  224244.25   336951.36   \n",
       "27in FHD Monitor             72445.17  118642.09  107842.81   144290.38   \n",
       "34in Ultrawide Monitor      144016.21  254973.29  209374.49   322611.51   \n",
       "AA Batteries (4-pack)         6800.64   11289.60   10080.00    14300.16   \n",
       "AAA Batteries (4-pack)        5749.77   10055.37    9044.75    12680.59   \n",
       "Apple Airpods Headphones    145350.00  250650.00  226950.00   311400.00   \n",
       "Bose SoundSport Headphones   82791.72  146485.35  125187.48   182381.76   \n",
       "Flatscreen TV                88200.00  157200.00  138000.00   199800.00   \n",
       "Google Phone                204600.00  358200.00  295800.00   429000.00   \n",
       "LG Dryer                     18000.00   30000.00   33600.00    51600.00   \n",
       "LG Washing Machine           27600.00   36600.00   31800.00    48000.00   \n",
       "Lightning Charging Cable     21408.40   38451.40   33039.50    46150.65   \n",
       "Macbook Pro Laptop          489600.00  892500.00  748000.00  1093100.00   \n",
       "ThinkPad Laptop             248997.51  460995.39  373996.26   538994.61   \n",
       "USB-C Charging Cable         19048.30   31870.65   26959.20    38837.50   \n",
       "Vareebadd Phone              50400.00   81200.00   70800.00   113600.00   \n",
       "Wired Headphones             15598.99   27265.26   23188.66    32960.51   \n",
       "iPhone                      277900.00  501200.00  465500.00   634200.00   \n",
       "\n",
       "                           Январь_2020  \n",
       "Months                                  \n",
       "Product                                 \n",
       "20in Monitor                    632602  \n",
       "27in 4K Gaming Monitor          107761  \n",
       "27in FHD Monitor                548021  \n",
       "34in Ultrawide Monitor           13810  \n",
       "AA Batteries (4-pack)           192643  \n",
       "AAA Batteries (4-pack)         1092893  \n",
       "Apple Airpods Headphones         62164  \n",
       "Bose SoundSport Headphones      153136  \n",
       "Flatscreen TV                   180880  \n",
       "Google Phone                    312804  \n",
       "LG Dryer                         55276  \n",
       "LG Washing Machine               15533  \n",
       "Lightning Charging Cable        430407  \n",
       "Macbook Pro Laptop               38985  \n",
       "ThinkPad Laptop                 308858  \n",
       "USB-C Charging Cable             47694  \n",
       "Vareebadd Phone                 321280  \n",
       "Wired Headphones                 52726  \n",
       "iPhone                           34277  "
      ]
     },
     "execution_count": 1024,
     "metadata": {},
     "output_type": "execute_result"
    }
   ],
   "source": [
    "train = pd.DataFrame({'y': y_pred_train_ridgep.astype(np.int64)})   # Соединяем с таблицей о доходах то, что мы получили в результате ML, т.е. предсказуемые доходности за январь 2020 года для каждого продукта. \n",
    "test = pd.DataFrame({'y':y_pred_test_ridgep.astype(np.int64)})   \n",
    "Январь_2020 = train.append(test, ignore_index=True)\n",
    "Январь_2020 = Январь_2020.set_index(income_table.index)\n",
    "income_table['Январь_2020'] = Январь_2020\n",
    "income_table"
   ]
  },
  {
   "cell_type": "markdown",
   "id": "7be681d7",
   "metadata": {},
   "source": [
    "# Вывод:"
   ]
  },
  {
   "cell_type": "markdown",
   "id": "2bf14343",
   "metadata": {},
   "source": [
    "##### На этом наше исследование закончилось. В рамках нашего проекта мы проанализировали данные о продаже товаров на рынке электроники. Мы сделали разведочный анализ данных (EDA). Рассчитали объем продаж электроник, посмотрели как доходы меняются в зависимости от времени, нашли самые популярные товары и какие электронные устройства или приборы чаще покупаются вместе. Сделали гипотезы на основе созданных графиков, вывели из данных новые необходимые признаки и исследовали их. В завершении нашего анализа, мы создали модель и сделали предсказание дохода на январь 2020 года.  "
   ]
  }
 ],
 "metadata": {
  "kernelspec": {
   "display_name": "Python 3 (ipykernel)",
   "language": "python",
   "name": "python3"
  },
  "language_info": {
   "codemirror_mode": {
    "name": "ipython",
    "version": 3
   },
   "file_extension": ".py",
   "mimetype": "text/x-python",
   "name": "python",
   "nbconvert_exporter": "python",
   "pygments_lexer": "ipython3",
   "version": "3.9.13"
  }
 },
 "nbformat": 4,
 "nbformat_minor": 5
}
