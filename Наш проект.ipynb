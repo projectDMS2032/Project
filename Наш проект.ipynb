{
 "cells": [
  {
   "cell_type": "markdown",
   "id": "547ec9a6",
   "metadata": {
    "scrolled": true
   },
   "source": [
    "Импортируем библиотеки"
   ]
  },
  {
   "cell_type": "code",
   "execution_count": 198,
   "id": "1b7fa0a8",
   "metadata": {},
   "outputs": [],
   "source": [
    "import numpy as np\n",
    "import pandas as pd"
   ]
  },
  {
   "cell_type": "markdown",
   "id": "c815b3d8",
   "metadata": {},
   "source": [
    "Загружаем данные\n",
    "Мы взяли данные о продажах магазина электроники за 12 месяцев(у нас пока нет месяца июня, т.к. возникли проблемы с обработкой, все эти данные, в т.ч. числовые имели тип object и мы переводили их в int, но именно с месяцем июнь у нас возникла проблема, надеемся, что скоро устраним)"
   ]
  },
  {
   "cell_type": "code",
   "execution_count": 199,
   "id": "5c74f913",
   "metadata": {},
   "outputs": [],
   "source": [
    "jan= pd.read_csv('Sales_January_2019.csv', sep=(';'))\n",
    "feb=pd.read_csv('Sales_February_2019.csv', sep=(';'))\n",
    "mar=pd.read_csv('Sales_March_2019.csv',sep=(';'))\n",
    "apr=pd.read_csv('Sales_April_2019.csv', sep=(';'))\n",
    "may=pd.read_csv('Sales_May_2019.csv', sep=\";\")\n",
    "jul=pd.read_csv('Sales_July_2019.csv', sep=\";\")\n",
    "aug=pd.read_csv('Sales_August_2019.csv', sep=';')\n",
    "sep = pd.read_csv('Sales_September_2019.csv', sep=\";\")\n",
    "oct = pd.read_csv('Sales_October_2019.csv', sep=\";\")\n",
    "nov = pd.read_csv('Sales_November_2019.csv', sep=\";\")\n",
    "dec = pd.read_csv('Sales_December_2019.csv', sep=\";\")"
   ]
  },
  {
   "cell_type": "markdown",
   "id": "69164920",
   "metadata": {},
   "source": [
    "Давайте посмотрим на наши данные"
   ]
  },
  {
   "cell_type": "code",
   "execution_count": 200,
   "id": "d66017f1",
   "metadata": {
    "scrolled": false
   },
   "outputs": [
    {
     "data": {
      "text/html": [
       "<div>\n",
       "<style scoped>\n",
       "    .dataframe tbody tr th:only-of-type {\n",
       "        vertical-align: middle;\n",
       "    }\n",
       "\n",
       "    .dataframe tbody tr th {\n",
       "        vertical-align: top;\n",
       "    }\n",
       "\n",
       "    .dataframe thead th {\n",
       "        text-align: right;\n",
       "    }\n",
       "</style>\n",
       "<table border=\"1\" class=\"dataframe\">\n",
       "  <thead>\n",
       "    <tr style=\"text-align: right;\">\n",
       "      <th></th>\n",
       "      <th>Order ID</th>\n",
       "      <th>Product</th>\n",
       "      <th>Quantity Ordered</th>\n",
       "      <th>Price Each</th>\n",
       "      <th>Order Date</th>\n",
       "      <th>Purchase Address</th>\n",
       "    </tr>\n",
       "  </thead>\n",
       "  <tbody>\n",
       "    <tr>\n",
       "      <th>0</th>\n",
       "      <td>295665.0</td>\n",
       "      <td>Macbook Pro Laptop</td>\n",
       "      <td>1.0</td>\n",
       "      <td>1700</td>\n",
       "      <td>12/30/19 00:01</td>\n",
       "      <td>136 Church St, New York City, NY 10001</td>\n",
       "    </tr>\n",
       "    <tr>\n",
       "      <th>1</th>\n",
       "      <td>295666.0</td>\n",
       "      <td>LG Washing Machine</td>\n",
       "      <td>1.0</td>\n",
       "      <td>600.0</td>\n",
       "      <td>12/29/19 07:03</td>\n",
       "      <td>562 2nd St, New York City, NY 10001</td>\n",
       "    </tr>\n",
       "    <tr>\n",
       "      <th>2</th>\n",
       "      <td>295667.0</td>\n",
       "      <td>USB-C Charging Cable</td>\n",
       "      <td>1.0</td>\n",
       "      <td>11.95</td>\n",
       "      <td>12/12/19 18:21</td>\n",
       "      <td>277 Main St, New York City, NY 10001</td>\n",
       "    </tr>\n",
       "    <tr>\n",
       "      <th>3</th>\n",
       "      <td>295668.0</td>\n",
       "      <td>27in FHD Monitor</td>\n",
       "      <td>1.0</td>\n",
       "      <td>149.99</td>\n",
       "      <td>12/22/19 15:13</td>\n",
       "      <td>410 6th St, San Francisco, CA 94016</td>\n",
       "    </tr>\n",
       "    <tr>\n",
       "      <th>4</th>\n",
       "      <td>295669.0</td>\n",
       "      <td>USB-C Charging Cable</td>\n",
       "      <td>1.0</td>\n",
       "      <td>11.95</td>\n",
       "      <td>12/18/19 12:38</td>\n",
       "      <td>43 Hill St, Atlanta, GA 30301</td>\n",
       "    </tr>\n",
       "    <tr>\n",
       "      <th>...</th>\n",
       "      <td>...</td>\n",
       "      <td>...</td>\n",
       "      <td>...</td>\n",
       "      <td>...</td>\n",
       "      <td>...</td>\n",
       "      <td>...</td>\n",
       "    </tr>\n",
       "    <tr>\n",
       "      <th>25112</th>\n",
       "      <td>319666.0</td>\n",
       "      <td>Lightning Charging Cable</td>\n",
       "      <td>1.0</td>\n",
       "      <td>14.95</td>\n",
       "      <td>12/11/19 20:58</td>\n",
       "      <td>14 Madison St, San Francisco, CA 94016</td>\n",
       "    </tr>\n",
       "    <tr>\n",
       "      <th>25113</th>\n",
       "      <td>319667.0</td>\n",
       "      <td>AA Batteries (4-pack)</td>\n",
       "      <td>2.0</td>\n",
       "      <td>3.84</td>\n",
       "      <td>12/01/19 12:01</td>\n",
       "      <td>549 Willow St, Los Angeles, CA 90001</td>\n",
       "    </tr>\n",
       "    <tr>\n",
       "      <th>25114</th>\n",
       "      <td>319668.0</td>\n",
       "      <td>Vareebadd Phone</td>\n",
       "      <td>1.0</td>\n",
       "      <td>400</td>\n",
       "      <td>12/09/19 06:43</td>\n",
       "      <td>273 Wilson St, Seattle, WA 98101</td>\n",
       "    </tr>\n",
       "    <tr>\n",
       "      <th>25115</th>\n",
       "      <td>319669.0</td>\n",
       "      <td>Wired Headphones</td>\n",
       "      <td>1.0</td>\n",
       "      <td>11.99</td>\n",
       "      <td>12/03/19 10:39</td>\n",
       "      <td>778 River St, Dallas, TX 75001</td>\n",
       "    </tr>\n",
       "    <tr>\n",
       "      <th>25116</th>\n",
       "      <td>319670.0</td>\n",
       "      <td>Bose SoundSport Headphones</td>\n",
       "      <td>1.0</td>\n",
       "      <td>99.99</td>\n",
       "      <td>12/21/19 21:45</td>\n",
       "      <td>747 Chestnut St, Los Angeles, CA 90001</td>\n",
       "    </tr>\n",
       "  </tbody>\n",
       "</table>\n",
       "<p>25117 rows × 6 columns</p>\n",
       "</div>"
      ],
      "text/plain": [
       "       Order ID                     Product  Quantity Ordered Price Each  \\\n",
       "0      295665.0          Macbook Pro Laptop               1.0       1700   \n",
       "1      295666.0          LG Washing Machine               1.0      600.0   \n",
       "2      295667.0        USB-C Charging Cable               1.0      11.95   \n",
       "3      295668.0            27in FHD Monitor               1.0     149.99   \n",
       "4      295669.0        USB-C Charging Cable               1.0      11.95   \n",
       "...         ...                         ...               ...        ...   \n",
       "25112  319666.0    Lightning Charging Cable               1.0      14.95   \n",
       "25113  319667.0       AA Batteries (4-pack)               2.0       3.84   \n",
       "25114  319668.0             Vareebadd Phone               1.0        400   \n",
       "25115  319669.0            Wired Headphones               1.0      11.99   \n",
       "25116  319670.0  Bose SoundSport Headphones               1.0      99.99   \n",
       "\n",
       "           Order Date                        Purchase Address  \n",
       "0      12/30/19 00:01  136 Church St, New York City, NY 10001  \n",
       "1      12/29/19 07:03     562 2nd St, New York City, NY 10001  \n",
       "2      12/12/19 18:21    277 Main St, New York City, NY 10001  \n",
       "3      12/22/19 15:13     410 6th St, San Francisco, CA 94016  \n",
       "4      12/18/19 12:38           43 Hill St, Atlanta, GA 30301  \n",
       "...               ...                                     ...  \n",
       "25112  12/11/19 20:58  14 Madison St, San Francisco, CA 94016  \n",
       "25113  12/01/19 12:01    549 Willow St, Los Angeles, CA 90001  \n",
       "25114  12/09/19 06:43        273 Wilson St, Seattle, WA 98101  \n",
       "25115  12/03/19 10:39          778 River St, Dallas, TX 75001  \n",
       "25116  12/21/19 21:45  747 Chestnut St, Los Angeles, CA 90001  \n",
       "\n",
       "[25117 rows x 6 columns]"
      ]
     },
     "execution_count": 200,
     "metadata": {},
     "output_type": "execute_result"
    }
   ],
   "source": [
    "dec"
   ]
  },
  {
   "cell_type": "markdown",
   "id": "80a55fa8",
   "metadata": {},
   "source": [
    "Price Each имеет тип object, изменим его на float"
   ]
  },
  {
   "cell_type": "code",
   "execution_count": 201,
   "id": "3f31f3fd",
   "metadata": {},
   "outputs": [],
   "source": [
    "jan['Price Each'] = pd.to_numeric(jan['Price Each'], errors='coerce')\n",
    "feb['Price Each'] = pd.to_numeric(feb['Price Each'], errors='coerce')\n",
    "mar['Price Each'] = pd.to_numeric(mar['Price Each'], errors='coerce')\n",
    "apr['Price Each'] = pd.to_numeric(apr['Price Each'], errors='coerce')\n",
    "may['Price Each'] = pd.to_numeric(may['Price Each'], errors='coerce')\n",
    "jul['Price Each'] = pd.to_numeric(jul['Price Each'], errors='coerce')\n",
    "aug['Price Each'] = pd.to_numeric(aug['Price Each'], errors='coerce')\n",
    "sep['Price Each'] = pd.to_numeric(sep['Price Each'], errors='coerce')\n",
    "oct['Price Each'] = pd.to_numeric(oct['Price Each'], errors='coerce')\n",
    "nov['Price Each'] = pd.to_numeric(nov['Price Each'], errors='coerce')\n",
    "dec['Price Each'] = pd.to_numeric(dec['Price Each'], errors='coerce')"
   ]
  },
  {
   "cell_type": "code",
   "execution_count": 202,
   "id": "bbe21dc2",
   "metadata": {},
   "outputs": [
    {
     "data": {
      "text/plain": [
       "Order ID            float64\n",
       "Product              object\n",
       "Quantity Ordered    float64\n",
       "Price Each          float64\n",
       "Order Date           object\n",
       "Purchase Address     object\n",
       "dtype: object"
      ]
     },
     "execution_count": 202,
     "metadata": {},
     "output_type": "execute_result"
    }
   ],
   "source": [
    "nov.dtypes"
   ]
  },
  {
   "cell_type": "markdown",
   "id": "a2695c86",
   "metadata": {},
   "source": [
    "Заменим пустые строки на NaN и затем удалим эти строки(т.к. в таблице есть строки, в которых отсутсвует какая либо информация, в т.ч. нет Order ID)"
   ]
  },
  {
   "cell_type": "code",
   "execution_count": 203,
   "id": "d308496c",
   "metadata": {},
   "outputs": [],
   "source": [
    "jan.replace('', np.nan, inplace=True)\n",
    "JAN=jan.dropna()\n",
    "feb.replace('', np.nan, inplace=True)\n",
    "FEB=feb.dropna()\n",
    "mar.replace('', np.nan, inplace=True)\n",
    "MAR=mar.dropna()\n",
    "apr.replace('', np.nan, inplace=True)\n",
    "APR=apr.dropna()\n",
    "may.replace('', np.nan, inplace=True)\n",
    "MAY=may.dropna()\n",
    "jul.replace('', np.nan, inplace=True)\n",
    "JUL=jul.dropna()\n",
    "aug.replace('', np.nan, inplace=True)\n",
    "AUG=aug.dropna()\n",
    "sep.replace('', np.nan, inplace=True)\n",
    "SEP = sep.dropna()\n",
    "oct.replace('', np.nan, inplace=True)\n",
    "OCT = oct.dropna()\n",
    "nov.replace('', np.nan, inplace=True)\n",
    "NOV = nov.dropna()\n",
    "dec.replace('', np.nan, inplace=True)\n",
    "DEC = dec.dropna()"
   ]
  },
  {
   "cell_type": "markdown",
   "id": "723fea92",
   "metadata": {},
   "source": [
    "Убедимся, что нет пустых строк"
   ]
  },
  {
   "cell_type": "code",
   "execution_count": 204,
   "id": "bd8b9a08",
   "metadata": {
    "scrolled": true
   },
   "outputs": [
    {
     "data": {
      "text/plain": [
       "Order ID            0\n",
       "Product             0\n",
       "Quantity Ordered    0\n",
       "Price Each          0\n",
       "Order Date          0\n",
       "Purchase Address    0\n",
       "dtype: int64"
      ]
     },
     "execution_count": 204,
     "metadata": {},
     "output_type": "execute_result"
    }
   ],
   "source": [
    "NOV.isnull().sum()"
   ]
  },
  {
   "cell_type": "markdown",
   "id": "f4ab7676",
   "metadata": {},
   "source": [
    "Найдем сколько было продано в каждом месяце и в каком месяце наибольшее, в каком наименьшее количество проданных электроник "
   ]
  },
  {
   "cell_type": "code",
   "execution_count": 205,
   "id": "c8281647",
   "metadata": {
    "scrolled": true
   },
   "outputs": [
    {
     "name": "stdout",
     "output_type": "stream",
     "text": [
      "Продажи января: 10868.0\n",
      "Продажи февраля: 13461.0\n",
      "Продажи марта: 17006.0\n",
      "Продажи апреля: 20568.0\n",
      "Продажи мая: 18657.0\n",
      "Продажи июля: 16069.0\n",
      "Продажи августа: 13442.0\n",
      "Продажи сентября: 13119.0\n",
      "Продажи октября: 22705.0\n",
      "Продажи ноября: 19808.0\n",
      "Продажи декабря: 28121.0\n"
     ]
    }
   ],
   "source": [
    "print('Продажи января:', JAN['Quantity Ordered'].sum())\n",
    "print('Продажи февраля:', FEB['Quantity Ordered'].sum()) \n",
    "print('Продажи марта:', MAR['Quantity Ordered'].sum())\n",
    "print('Продажи апреля:', APR['Quantity Ordered'].sum())\n",
    "print('Продажи мая:', MAY['Quantity Ordered'].sum())\n",
    "print('Продажи июля:', JUL['Quantity Ordered'].sum())\n",
    "print('Продажи августа:', AUG['Quantity Ordered'].sum())\n",
    "print('Продажи сентября:', SEP['Quantity Ordered'].sum())   \n",
    "print('Продажи октября:', OCT['Quantity Ordered'].sum())    \n",
    "print('Продажи ноября:', NOV['Quantity Ordered'].sum()) \n",
    "print('Продажи декабря:', DEC['Quantity Ordered'].sum()) "
   ]
  },
  {
   "cell_type": "code",
   "execution_count": 278,
   "id": "9f5cd9ba",
   "metadata": {},
   "outputs": [
    {
     "data": {
      "text/html": [
       "<div>\n",
       "<style scoped>\n",
       "    .dataframe tbody tr th:only-of-type {\n",
       "        vertical-align: middle;\n",
       "    }\n",
       "\n",
       "    .dataframe tbody tr th {\n",
       "        vertical-align: top;\n",
       "    }\n",
       "\n",
       "    .dataframe thead th {\n",
       "        text-align: right;\n",
       "    }\n",
       "</style>\n",
       "<table border=\"1\" class=\"dataframe\">\n",
       "  <thead>\n",
       "    <tr style=\"text-align: right;\">\n",
       "      <th></th>\n",
       "      <th>Количество продаж в каждом месяце</th>\n",
       "    </tr>\n",
       "  </thead>\n",
       "  <tbody>\n",
       "    <tr>\n",
       "      <th>Январь</th>\n",
       "      <td>10868.0</td>\n",
       "    </tr>\n",
       "    <tr>\n",
       "      <th>Февраль</th>\n",
       "      <td>13461.0</td>\n",
       "    </tr>\n",
       "    <tr>\n",
       "      <th>Март</th>\n",
       "      <td>17006.0</td>\n",
       "    </tr>\n",
       "    <tr>\n",
       "      <th>Апрель</th>\n",
       "      <td>20568.0</td>\n",
       "    </tr>\n",
       "    <tr>\n",
       "      <th>Май</th>\n",
       "      <td>18657.0</td>\n",
       "    </tr>\n",
       "    <tr>\n",
       "      <th>Июль</th>\n",
       "      <td>16069.0</td>\n",
       "    </tr>\n",
       "    <tr>\n",
       "      <th>Август</th>\n",
       "      <td>13442.0</td>\n",
       "    </tr>\n",
       "    <tr>\n",
       "      <th>Сентябрь</th>\n",
       "      <td>13119.0</td>\n",
       "    </tr>\n",
       "    <tr>\n",
       "      <th>Октябрь</th>\n",
       "      <td>22705.0</td>\n",
       "    </tr>\n",
       "    <tr>\n",
       "      <th>Ноябрь</th>\n",
       "      <td>19808.0</td>\n",
       "    </tr>\n",
       "    <tr>\n",
       "      <th>Декабрь</th>\n",
       "      <td>28121.0</td>\n",
       "    </tr>\n",
       "  </tbody>\n",
       "</table>\n",
       "</div>"
      ],
      "text/plain": [
       "          Количество продаж в каждом месяце\n",
       "Январь                              10868.0\n",
       "Февраль                             13461.0\n",
       "Март                                17006.0\n",
       "Апрель                              20568.0\n",
       "Май                                 18657.0\n",
       "Июль                                16069.0\n",
       "Август                              13442.0\n",
       "Сентябрь                            13119.0\n",
       "Октябрь                             22705.0\n",
       "Ноябрь                              19808.0\n",
       "Декабрь                             28121.0"
      ]
     },
     "execution_count": 278,
     "metadata": {},
     "output_type": "execute_result"
    }
   ],
   "source": [
    "data = [JAN['Quantity Ordered'].sum(), FEB['Quantity Ordered'].sum(), MAR['Quantity Ordered'].sum(), APR['Quantity Ordered'].sum(), MAY['Quantity Ordered'].sum(), JUL['Quantity Ordered'].sum(), AUG['Quantity Ordered'].sum(), SEP['Quantity Ordered'].sum(), OCT['Quantity Ordered'].sum(), NOV['Quantity Ordered'].sum(), DEC['Quantity Ordered'].sum()] \n",
    "data = np.array(data)\n",
    "df = pd.DataFrame(data, columns=['Количество продаж в каждом месяце'], index=[\"Январь\", \"Февраль\", \"Март\", \"Апрель\", \"Май\", \"Июль\", \"Август\", \"Сентябрь\", \"Октябрь\", \"Ноябрь\", \"Декабрь\"])\n",
    "df"
   ]
  },
  {
   "cell_type": "code",
   "execution_count": 288,
   "id": "e0c199a4",
   "metadata": {},
   "outputs": [
    {
     "data": {
      "text/plain": [
       "<AxesSubplot:>"
      ]
     },
     "execution_count": 288,
     "metadata": {},
     "output_type": "execute_result"
    },
    {
     "data": {
      "image/png": "[encoded data removed]",
      "text/plain": [
       "<Figure size 640x480 with 1 Axes>"
      ]
     },
     "metadata": {},
     "output_type": "display_data"
    }
   ],
   "source": [
    "df.plot(column='Количество продаж в каждом месяце')"
   ]
  },
  {
   "cell_type": "markdown",
   "id": "a22b5d20",
   "metadata": {},
   "source": [
    "Cамое большое количество проданных продуктов в декабре, самое наименьшее - в январе."
   ]
  },
  {
   "cell_type": "markdown",
   "id": "191c2b7a",
   "metadata": {},
   "source": [
    "Сосчитаем доходы от продажи электроник в каждом месяце и найдем наибольший и наименьший доходы."
   ]
  },
  {
   "cell_type": "code",
   "execution_count": 208,
   "id": "8ac54443",
   "metadata": {},
   "outputs": [
    {
     "name": "stderr",
     "output_type": "stream",
     "text": [
      "C:\\Users\\User\\AppData\\Local\\Temp\\ipykernel_7004\\3170221118.py:12: SettingWithCopyWarning: \n",
      "A value is trying to be set on a copy of a slice from a DataFrame.\n",
      "Try using .loc[row_indexer,col_indexer] = value instead\n",
      "\n",
      "See the caveats in the documentation: https://pandas.pydata.org/pandas-docs/stable/user_guide/indexing.html#returning-a-view-versus-a-copy\n",
      "  JAN['income'] = income_jan\n",
      "C:\\Users\\User\\AppData\\Local\\Temp\\ipykernel_7004\\3170221118.py:13: SettingWithCopyWarning: \n",
      "A value is trying to be set on a copy of a slice from a DataFrame.\n",
      "Try using .loc[row_indexer,col_indexer] = value instead\n",
      "\n",
      "See the caveats in the documentation: https://pandas.pydata.org/pandas-docs/stable/user_guide/indexing.html#returning-a-view-versus-a-copy\n",
      "  FEB['income'] = income_feb\n",
      "C:\\Users\\User\\AppData\\Local\\Temp\\ipykernel_7004\\3170221118.py:14: SettingWithCopyWarning: \n",
      "A value is trying to be set on a copy of a slice from a DataFrame.\n",
      "Try using .loc[row_indexer,col_indexer] = value instead\n",
      "\n",
      "See the caveats in the documentation: https://pandas.pydata.org/pandas-docs/stable/user_guide/indexing.html#returning-a-view-versus-a-copy\n",
      "  MAR['income'] = income_mar\n",
      "C:\\Users\\User\\AppData\\Local\\Temp\\ipykernel_7004\\3170221118.py:15: SettingWithCopyWarning: \n",
      "A value is trying to be set on a copy of a slice from a DataFrame.\n",
      "Try using .loc[row_indexer,col_indexer] = value instead\n",
      "\n",
      "See the caveats in the documentation: https://pandas.pydata.org/pandas-docs/stable/user_guide/indexing.html#returning-a-view-versus-a-copy\n",
      "  APR['income'] = income_apr\n",
      "C:\\Users\\User\\AppData\\Local\\Temp\\ipykernel_7004\\3170221118.py:16: SettingWithCopyWarning: \n",
      "A value is trying to be set on a copy of a slice from a DataFrame.\n",
      "Try using .loc[row_indexer,col_indexer] = value instead\n",
      "\n",
      "See the caveats in the documentation: https://pandas.pydata.org/pandas-docs/stable/user_guide/indexing.html#returning-a-view-versus-a-copy\n",
      "  MAY['income'] = income_may\n",
      "C:\\Users\\User\\AppData\\Local\\Temp\\ipykernel_7004\\3170221118.py:17: SettingWithCopyWarning: \n",
      "A value is trying to be set on a copy of a slice from a DataFrame.\n",
      "Try using .loc[row_indexer,col_indexer] = value instead\n",
      "\n",
      "See the caveats in the documentation: https://pandas.pydata.org/pandas-docs/stable/user_guide/indexing.html#returning-a-view-versus-a-copy\n",
      "  JUL['income'] = income_jul\n",
      "C:\\Users\\User\\AppData\\Local\\Temp\\ipykernel_7004\\3170221118.py:18: SettingWithCopyWarning: \n",
      "A value is trying to be set on a copy of a slice from a DataFrame.\n",
      "Try using .loc[row_indexer,col_indexer] = value instead\n",
      "\n",
      "See the caveats in the documentation: https://pandas.pydata.org/pandas-docs/stable/user_guide/indexing.html#returning-a-view-versus-a-copy\n",
      "  AUG['income'] = income_aug\n",
      "C:\\Users\\User\\AppData\\Local\\Temp\\ipykernel_7004\\3170221118.py:19: SettingWithCopyWarning: \n",
      "A value is trying to be set on a copy of a slice from a DataFrame.\n",
      "Try using .loc[row_indexer,col_indexer] = value instead\n",
      "\n",
      "See the caveats in the documentation: https://pandas.pydata.org/pandas-docs/stable/user_guide/indexing.html#returning-a-view-versus-a-copy\n",
      "  SEP['income'] = income_sep\n",
      "C:\\Users\\User\\AppData\\Local\\Temp\\ipykernel_7004\\3170221118.py:20: SettingWithCopyWarning: \n",
      "A value is trying to be set on a copy of a slice from a DataFrame.\n",
      "Try using .loc[row_indexer,col_indexer] = value instead\n",
      "\n",
      "See the caveats in the documentation: https://pandas.pydata.org/pandas-docs/stable/user_guide/indexing.html#returning-a-view-versus-a-copy\n",
      "  OCT['income'] = income_oct\n",
      "C:\\Users\\User\\AppData\\Local\\Temp\\ipykernel_7004\\3170221118.py:21: SettingWithCopyWarning: \n",
      "A value is trying to be set on a copy of a slice from a DataFrame.\n",
      "Try using .loc[row_indexer,col_indexer] = value instead\n",
      "\n",
      "See the caveats in the documentation: https://pandas.pydata.org/pandas-docs/stable/user_guide/indexing.html#returning-a-view-versus-a-copy\n",
      "  NOV['income'] = income_nov\n",
      "C:\\Users\\User\\AppData\\Local\\Temp\\ipykernel_7004\\3170221118.py:22: SettingWithCopyWarning: \n",
      "A value is trying to be set on a copy of a slice from a DataFrame.\n",
      "Try using .loc[row_indexer,col_indexer] = value instead\n",
      "\n",
      "See the caveats in the documentation: https://pandas.pydata.org/pandas-docs/stable/user_guide/indexing.html#returning-a-view-versus-a-copy\n",
      "  DEC['income'] = income_dec\n"
     ]
    }
   ],
   "source": [
    "income_jan = JAN['Quantity Ordered'] * JAN['Price Each']\n",
    "income_feb = FEB['Quantity Ordered'] * FEB['Price Each']\n",
    "income_mar = MAR['Quantity Ordered'] * MAR['Price Each']\n",
    "income_apr = APR['Quantity Ordered'] * APR['Price Each']\n",
    "income_may = MAY['Quantity Ordered'] * MAY['Price Each']\n",
    "income_jul = JUL['Quantity Ordered'] * JUL['Price Each']\n",
    "income_aug = AUG['Quantity Ordered'] * AUG['Price Each']\n",
    "income_sep = SEP['Quantity Ordered'] * SEP['Price Each']\n",
    "income_oct = OCT['Quantity Ordered'] * OCT['Price Each']\n",
    "income_nov = NOV['Quantity Ordered'] * NOV['Price Each']\n",
    "income_dec = DEC['Quantity Ordered'] * DEC['Price Each']\n",
    "JAN['income'] = income_jan\n",
    "FEB['income'] = income_feb\n",
    "MAR['income'] = income_mar\n",
    "APR['income'] = income_apr\n",
    "MAY['income'] = income_may\n",
    "JUL['income'] = income_jul\n",
    "AUG['income'] = income_aug\n",
    "SEP['income'] = income_sep\n",
    "OCT['income'] = income_oct\n",
    "NOV['income'] = income_nov\n",
    "DEC['income'] = income_dec"
   ]
  },
  {
   "cell_type": "code",
   "execution_count": 291,
   "id": "d565123d",
   "metadata": {},
   "outputs": [
    {
     "name": "stdout",
     "output_type": "stream",
     "text": [
      "Суммарная доходность января: 1815335.1\n",
      "Суммарная доходность февраля: 2203481.2\n",
      "Суммарная доходность марта: 2809063.3\n",
      "Суммарная доходность апреля: 3396059.1\n",
      "Суммарная доходность мая: 3144584.8\n",
      "Суммарная доходность июля: 2646899.7\n",
      "Суммарная доходность августа: 2244412.3\n",
      "Суммарная доходность сентября: 2098816.7\n",
      "Суммарная доходность октября: 3736884.0\n",
      "Суммарная доходность ноября: 3198909.2\n",
      "Суммарная доходность декабря: 4619297.1\n"
     ]
    }
   ],
   "source": [
    "print('Суммарная доходность января:', JAN['income'].sum().round(1))\n",
    "print('Суммарная доходность февраля:', FEB['income'].sum().round(1))\n",
    "print('Суммарная доходность марта:', MAR['income'].sum().round(1))\n",
    "print('Суммарная доходность апреля:', APR['income'].sum().round(1))\n",
    "print('Суммарная доходность мая:', MAY['income'].sum().round(1))\n",
    "print('Суммарная доходность июля:', JUL['income'].sum().round(1))\n",
    "print('Суммарная доходность августа:', AUG['income'].sum().round(1))\n",
    "print('Суммарная доходность сентября:', SEP['income'].sum().round(1))  \n",
    "print('Суммарная доходность октября:', OCT['income'].sum().round(1))  \n",
    "print('Суммарная доходность ноября:', NOV['income'].sum().round(1))  \n",
    "print('Суммарная доходность декабря:', DEC['income'].sum().round(1)) "
   ]
  },
  {
   "cell_type": "code",
   "execution_count": 293,
   "id": "00650b55",
   "metadata": {},
   "outputs": [
    {
     "data": {
      "text/html": [
       "<div>\n",
       "<style scoped>\n",
       "    .dataframe tbody tr th:only-of-type {\n",
       "        vertical-align: middle;\n",
       "    }\n",
       "\n",
       "    .dataframe tbody tr th {\n",
       "        vertical-align: top;\n",
       "    }\n",
       "\n",
       "    .dataframe thead th {\n",
       "        text-align: right;\n",
       "    }\n",
       "</style>\n",
       "<table border=\"1\" class=\"dataframe\">\n",
       "  <thead>\n",
       "    <tr style=\"text-align: right;\">\n",
       "      <th></th>\n",
       "      <th>Суммарная доходность в каждом месяце</th>\n",
       "    </tr>\n",
       "  </thead>\n",
       "  <tbody>\n",
       "    <tr>\n",
       "      <th>Январь</th>\n",
       "      <td>1815335.1</td>\n",
       "    </tr>\n",
       "    <tr>\n",
       "      <th>Февраль</th>\n",
       "      <td>2203481.2</td>\n",
       "    </tr>\n",
       "    <tr>\n",
       "      <th>Март</th>\n",
       "      <td>2809063.3</td>\n",
       "    </tr>\n",
       "    <tr>\n",
       "      <th>Апрель</th>\n",
       "      <td>3396059.1</td>\n",
       "    </tr>\n",
       "    <tr>\n",
       "      <th>Май</th>\n",
       "      <td>3144584.8</td>\n",
       "    </tr>\n",
       "    <tr>\n",
       "      <th>Июль</th>\n",
       "      <td>2646899.7</td>\n",
       "    </tr>\n",
       "    <tr>\n",
       "      <th>Август</th>\n",
       "      <td>2244412.3</td>\n",
       "    </tr>\n",
       "    <tr>\n",
       "      <th>Сентябрь</th>\n",
       "      <td>2098816.7</td>\n",
       "    </tr>\n",
       "    <tr>\n",
       "      <th>Октябрь</th>\n",
       "      <td>3736884.0</td>\n",
       "    </tr>\n",
       "    <tr>\n",
       "      <th>Ноябрь</th>\n",
       "      <td>3198909.2</td>\n",
       "    </tr>\n",
       "    <tr>\n",
       "      <th>Декабрь</th>\n",
       "      <td>4619297.1</td>\n",
       "    </tr>\n",
       "  </tbody>\n",
       "</table>\n",
       "</div>"
      ],
      "text/plain": [
       "          Суммарная доходность в каждом месяце\n",
       "Январь                               1815335.1\n",
       "Февраль                              2203481.2\n",
       "Март                                 2809063.3\n",
       "Апрель                               3396059.1\n",
       "Май                                  3144584.8\n",
       "Июль                                 2646899.7\n",
       "Август                               2244412.3\n",
       "Сентябрь                             2098816.7\n",
       "Октябрь                              3736884.0\n",
       "Ноябрь                               3198909.2\n",
       "Декабрь                              4619297.1"
      ]
     },
     "execution_count": 293,
     "metadata": {},
     "output_type": "execute_result"
    }
   ],
   "source": [
    "datainc = [JAN['income'].sum().round(1),FEB['income'].sum().round(1),MAR['income'].sum().round(1),APR['income'].sum().round(1),MAY['income'].sum().round(1), JUL['income'].sum().round(1), AUG['income'].sum().round(1),SEP['income'].sum().round(1), OCT['income'].sum().round(1),NOV['income'].sum().round(1),DEC['income'].sum().round(1)]  \n",
    "datainc = np.array(datainc)\n",
    "dfinc = pd.DataFrame(datainc, columns=['Суммарная доходность в каждом месяце'], index=[\"Январь\", \"Февраль\", \"Март\", \"Апрель\", \"Май\", \"Июль\", \"Август\", \"Сентябрь\", \"Октябрь\", \"Ноябрь\", \"Декабрь\"])\n",
    "dfinc"
   ]
  },
  {
   "cell_type": "code",
   "execution_count": 294,
   "id": "83b8ad08",
   "metadata": {},
   "outputs": [
    {
     "data": {
      "text/plain": [
       "<AxesSubplot:>"
      ]
     },
     "execution_count": 294,
     "metadata": {},
     "output_type": "execute_result"
    },
    {
     "data": {
      "image/png": "[encoded data removed]",
      "text/plain": [
       "<Figure size 640x480 with 1 Axes>"
      ]
     },
     "metadata": {},
     "output_type": "display_data"
    }
   ],
   "source": [
    "dfinc.plot(column='Суммарная доходность в каждом месяце')"
   ]
  },
  {
   "cell_type": "code",
   "execution_count": null,
   "id": "9c903c5f",
   "metadata": {},
   "outputs": [],
   "source": [
    "Самая наибольшая дохожность в декабре и самая наименьшая - в январе"
   ]
  },
  {
   "cell_type": "markdown",
   "id": "835b4560",
   "metadata": {},
   "source": [
    "Посчитаем сколько продаж было в каждом городе, и в каком городе наибольшее количество продаж"
   ]
  },
  {
   "cell_type": "code",
   "execution_count": 222,
   "id": "51404b40",
   "metadata": {},
   "outputs": [
    {
     "data": {
      "text/plain": [
       " San Francisco    2354\n",
       " Los Angeles      1529\n",
       " New York City    1303\n",
       " Boston           1048\n",
       " Atlanta           786\n",
       " Dallas            785\n",
       " Seattle           726\n",
       " Portland          623\n",
       " Austin            527\n",
       "Name: Purchase Address, dtype: int64"
      ]
     },
     "execution_count": 222,
     "metadata": {},
     "output_type": "execute_result"
    }
   ],
   "source": [
    "city_jan=JAN['Purchase Address'].str.split(',').str[1]\n",
    "city_jan.value_counts()"
   ]
  },
  {
   "cell_type": "code",
   "execution_count": 223,
   "id": "2f37093f",
   "metadata": {},
   "outputs": [
    {
     "data": {
      "text/plain": [
       " San Francisco    2912\n",
       " Los Angeles      1901\n",
       " New York City    1611\n",
       " Boston           1256\n",
       " Dallas            981\n",
       " Atlanta           936\n",
       " Seattle           927\n",
       " Portland          836\n",
       " Austin            626\n",
       "Name: Purchase Address, dtype: int64"
      ]
     },
     "execution_count": 223,
     "metadata": {},
     "output_type": "execute_result"
    }
   ],
   "source": [
    "city_feb=FEB['Purchase Address'].str.split(',').str[1]\n",
    "city_feb.value_counts()"
   ]
  },
  {
   "cell_type": "code",
   "execution_count": 224,
   "id": "66462009",
   "metadata": {},
   "outputs": [
    {
     "data": {
      "text/plain": [
       " San Francisco    3597\n",
       " Los Angeles      2456\n",
       " New York City    1981\n",
       " Boston           1648\n",
       " Atlanta          1245\n",
       " Dallas           1202\n",
       " Seattle          1202\n",
       " Portland          983\n",
       " Austin            840\n",
       "Name: Purchase Address, dtype: int64"
      ]
     },
     "execution_count": 224,
     "metadata": {},
     "output_type": "execute_result"
    }
   ],
   "source": [
    "city_mar=MAR['Purchase Address'].str.split(',').str[1]\n",
    "city_mar.value_counts()"
   ]
  },
  {
   "cell_type": "code",
   "execution_count": 225,
   "id": "0f848bf8",
   "metadata": {
    "scrolled": true
   },
   "outputs": [
    {
     "data": {
      "text/plain": [
       " San Francisco    4437\n",
       " Los Angeles      3026\n",
       " New York City    2434\n",
       " Boston           1918\n",
       " Atlanta          1472\n",
       " Seattle          1442\n",
       " Dallas           1350\n",
       " Portland         1237\n",
       " Austin            973\n",
       "Name: Purchase Address, dtype: int64"
      ]
     },
     "execution_count": 225,
     "metadata": {},
     "output_type": "execute_result"
    }
   ],
   "source": [
    "city_apr=APR['Purchase Address'].str.split(',').str[1]\n",
    "city_apr.value_counts()"
   ]
  },
  {
   "cell_type": "code",
   "execution_count": 227,
   "id": "7cb0ce1c",
   "metadata": {
    "scrolled": true
   },
   "outputs": [
    {
     "data": {
      "text/plain": [
       " San Francisco    3921\n",
       " Los Angeles      2568\n",
       " New York City    2268\n",
       " Boston           1800\n",
       " Dallas           1420\n",
       " Atlanta          1331\n",
       " Seattle          1241\n",
       " Portland         1166\n",
       " Austin            839\n",
       "Name: Purchase Address, dtype: int64"
      ]
     },
     "execution_count": 227,
     "metadata": {},
     "output_type": "execute_result"
    }
   ],
   "source": [
    "city_may=MAY['Purchase Address'].str.split(',').str[1]\n",
    "city_may.value_counts() "
   ]
  },
  {
   "cell_type": "code",
   "execution_count": 228,
   "id": "cbbecfd4",
   "metadata": {
    "scrolled": true
   },
   "outputs": [
    {
     "data": {
      "text/plain": [
       " San Francisco    3530\n",
       " Los Angeles      2235\n",
       " New York City    1930\n",
       " Boston           1552\n",
       " Atlanta          1146\n",
       " Seattle          1119\n",
       " Dallas           1098\n",
       " Portland          919\n",
       " Austin            762\n",
       "Name: Purchase Address, dtype: int64"
      ]
     },
     "execution_count": 228,
     "metadata": {},
     "output_type": "execute_result"
    }
   ],
   "source": [
    "city_jul=JUL['Purchase Address'].str.split(',').str[1]\n",
    "city_jul.value_counts()"
   ]
  },
  {
   "cell_type": "code",
   "execution_count": 229,
   "id": "a0cdaac5",
   "metadata": {},
   "outputs": [
    {
     "data": {
      "text/plain": [
       " San Francisco    2833\n",
       " Los Angeles      1867\n",
       " New York City    1626\n",
       " Boston           1245\n",
       " Seattle          1006\n",
       " Dallas            968\n",
       " Atlanta           941\n",
       " Portland          822\n",
       " Austin            649\n",
       "Name: Purchase Address, dtype: int64"
      ]
     },
     "execution_count": 229,
     "metadata": {},
     "output_type": "execute_result"
    }
   ],
   "source": [
    "city_aug=AUG['Purchase Address'].str.split(',').str[1]\n",
    "city_aug.value_counts()"
   ]
  },
  {
   "cell_type": "code",
   "execution_count": 230,
   "id": "71d55820",
   "metadata": {},
   "outputs": [
    {
     "data": {
      "text/plain": [
       " San Francisco    2734\n",
       " Los Angeles      1884\n",
       " New York City    1536\n",
       " Boston           1283\n",
       " Seattle           937\n",
       " Dallas            935\n",
       " Atlanta           915\n",
       " Portland          739\n",
       " Austin            666\n",
       "Name: Purchase Address, dtype: int64"
      ]
     },
     "execution_count": 230,
     "metadata": {},
     "output_type": "execute_result"
    }
   ],
   "source": [
    "city_sep=SEP['Purchase Address'].str.split(',').str[1]\n",
    "city_sep.value_counts()"
   ]
  },
  {
   "cell_type": "code",
   "execution_count": 231,
   "id": "05486903",
   "metadata": {},
   "outputs": [
    {
     "data": {
      "text/plain": [
       " San Francisco    4767\n",
       " Los Angeles      3294\n",
       " New York City    2648\n",
       " Boston           2176\n",
       " Seattle          1679\n",
       " Dallas           1639\n",
       " Atlanta          1605\n",
       " Portland         1386\n",
       " Austin           1090\n",
       "Name: Purchase Address, dtype: int64"
      ]
     },
     "execution_count": 231,
     "metadata": {},
     "output_type": "execute_result"
    }
   ],
   "source": [
    "city_oct=OCT['Purchase Address'].str.split(',').str[1]\n",
    "city_oct.value_counts()"
   ]
  },
  {
   "cell_type": "code",
   "execution_count": 232,
   "id": "18ef7c76",
   "metadata": {},
   "outputs": [
    {
     "data": {
      "text/plain": [
       " San Francisco    4322\n",
       " Los Angeles      2750\n",
       " New York City    2355\n",
       " Boston           1918\n",
       " Seattle          1420\n",
       " Atlanta          1412\n",
       " Dallas           1371\n",
       " Portland         1164\n",
       " Austin            868\n",
       "Name: Purchase Address, dtype: int64"
      ]
     },
     "execution_count": 232,
     "metadata": {},
     "output_type": "execute_result"
    }
   ],
   "source": [
    "city_nov=NOV['Purchase Address'].str.split(',').str[1]\n",
    "city_nov.value_counts()"
   ]
  },
  {
   "cell_type": "code",
   "execution_count": 221,
   "id": "308918ea",
   "metadata": {
    "scrolled": true
   },
   "outputs": [
    {
     "data": {
      "text/plain": [
       " San Francisco    6021\n",
       " Los Angeles      3894\n",
       " New York City    3408\n",
       " Boston           2698\n",
       " Dallas           2005\n",
       " Atlanta          1988\n",
       " Seattle          1977\n",
       " Portland         1648\n",
       " Austin           1350\n",
       "Name: Purchase Address, dtype: int64"
      ]
     },
     "execution_count": 221,
     "metadata": {},
     "output_type": "execute_result"
    }
   ],
   "source": [
    "city_dec=DEC['Purchase Address'].str.split(',').str[1]\n",
    "city_dec.value_counts()"
   ]
  },
  {
   "cell_type": "code",
   "execution_count": null,
   "id": "4464e19c",
   "metadata": {},
   "outputs": [],
   "source": [
    "Наибольшее количество продаж в San Francisco, наименьшее в Austin "
   ]
  },
  {
   "cell_type": "markdown",
   "id": "e51dc3dd",
   "metadata": {},
   "source": [
    "Найдем суммарный ежемесячный доход, средний доход и стандартное отклонение в каждом месяце для каждого города"
   ]
  },
  {
   "cell_type": "code",
   "execution_count": 300,
   "id": "87827df0",
   "metadata": {},
   "outputs": [
    {
     "data": {
      "text/plain": [
       "Purchase Address\n",
       " Atlanta          149163.38\n",
       " Austin            87587.08\n",
       " Boston           199776.55\n",
       " Dallas           143465.50\n",
       " Los Angeles      287613.86\n",
       " New York City    259250.67\n",
       " Portland         114832.57\n",
       " San Francisco    433103.45\n",
       " Seattle          140542.06\n",
       "Name: income, dtype: float64"
      ]
     },
     "execution_count": 300,
     "metadata": {},
     "output_type": "execute_result"
    }
   ],
   "source": [
    "df_jan_sum=JAN.groupby(city_jan)['income'].sum() \n",
    "df_jan_sum"
   ]
  },
  {
   "cell_type": "code",
   "execution_count": 235,
   "id": "6ac9017c",
   "metadata": {},
   "outputs": [
    {
     "data": {
      "text/plain": [
       "Purchase Address\n",
       " Atlanta          189.775293\n",
       " Austin           166.199393\n",
       " Boston           190.626479\n",
       " Dallas           182.758599\n",
       " Los Angeles      188.105860\n",
       " New York City    198.964444\n",
       " Portland         184.321942\n",
       " San Francisco    183.986172\n",
       " Seattle          193.584105\n",
       "Name: income, dtype: float64"
      ]
     },
     "execution_count": 235,
     "metadata": {},
     "output_type": "execute_result"
    }
   ],
   "source": [
    "df_jan_mean=JAN.groupby(city_jan)['income'].mean()  \n",
    "df_jan_mean"
   ]
  },
  {
   "cell_type": "code",
   "execution_count": 236,
   "id": "55a4a989",
   "metadata": {},
   "outputs": [
    {
     "data": {
      "text/plain": [
       "Purchase Address\n",
       " Atlanta          326.451937\n",
       " Austin           313.053984\n",
       " Boston           343.257630\n",
       " Dallas           326.543201\n",
       " Los Angeles      335.615883\n",
       " New York City    357.952698\n",
       " Portland         309.522075\n",
       " San Francisco    324.201892\n",
       " Seattle          316.524320\n",
       "Name: income, dtype: float64"
      ]
     },
     "execution_count": 236,
     "metadata": {},
     "output_type": "execute_result"
    }
   ],
   "source": [
    "df_jan_std=JAN.groupby(city_jan)['income'].std()\n",
    "df_jan_std"
   ]
  },
  {
   "cell_type": "code",
   "execution_count": 237,
   "id": "0d74e659",
   "metadata": {},
   "outputs": [
    {
     "data": {
      "text/plain": [
       "Purchase Address\n",
       " Atlanta          176566.45\n",
       " Austin           108790.39\n",
       " Boston           215796.39\n",
       " Dallas           184950.05\n",
       " Los Angeles      342161.69\n",
       " New York City    305396.20\n",
       " Portland         149844.84\n",
       " San Francisco    548644.98\n",
       " Seattle          171330.25\n",
       "Name: income, dtype: float64"
      ]
     },
     "execution_count": 237,
     "metadata": {},
     "output_type": "execute_result"
    }
   ],
   "source": [
    "df_feb_sum=FEB.groupby(city_feb)['income'].sum()\n",
    "df_feb_sum"
   ]
  },
  {
   "cell_type": "code",
   "execution_count": 238,
   "id": "d496d4db",
   "metadata": {},
   "outputs": [
    {
     "data": {
      "text/plain": [
       "Purchase Address\n",
       " Atlanta          188.639370\n",
       " Austin           173.786565\n",
       " Boston           171.812412\n",
       " Dallas           188.532161\n",
       " Los Angeles      179.990368\n",
       " New York City    189.569336\n",
       " Portland         179.240239\n",
       " San Francisco    188.408304\n",
       " Seattle          184.822276\n",
       "Name: income, dtype: float64"
      ]
     },
     "execution_count": 238,
     "metadata": {},
     "output_type": "execute_result"
    }
   ],
   "source": [
    "df_feb_mean=FEB.groupby(city_feb)['income'].mean() \n",
    "df_feb_mean"
   ]
  },
  {
   "cell_type": "code",
   "execution_count": 239,
   "id": "53ef44d6",
   "metadata": {},
   "outputs": [
    {
     "data": {
      "text/plain": [
       "Purchase Address\n",
       " Atlanta          335.820322\n",
       " Austin           318.860589\n",
       " Boston           283.376696\n",
       " Dallas           324.445058\n",
       " Los Angeles      328.941325\n",
       " New York City    337.655980\n",
       " Portland         315.576075\n",
       " San Francisco    335.455338\n",
       " Seattle          324.087799\n",
       "Name: income, dtype: float64"
      ]
     },
     "execution_count": 239,
     "metadata": {},
     "output_type": "execute_result"
    }
   ],
   "source": [
    "df_feb_std=FEB.groupby(city_feb)['income'].std() \n",
    "df_feb_std"
   ]
  },
  {
   "cell_type": "code",
   "execution_count": 240,
   "id": "4c2d2df4",
   "metadata": {},
   "outputs": [
    {
     "data": {
      "text/plain": [
       "Purchase Address\n",
       " Atlanta          231811.37\n",
       " Austin           154546.28\n",
       " Boston           301063.55\n",
       " Dallas           222976.68\n",
       " Los Angeles      429982.33\n",
       " New York City    370198.22\n",
       " Portland         186815.03\n",
       " San Francisco    692157.31\n",
       " Seattle          219512.53\n",
       "Name: income, dtype: float64"
      ]
     },
     "execution_count": 240,
     "metadata": {},
     "output_type": "execute_result"
    }
   ],
   "source": [
    "df_mar_sum=MAR.groupby(city_mar)['income'].sum()\n",
    "df_mar_sum"
   ]
  },
  {
   "cell_type": "code",
   "execution_count": 241,
   "id": "0d3bf08f",
   "metadata": {},
   "outputs": [
    {
     "data": {
      "text/plain": [
       "Purchase Address\n",
       " Atlanta          186.193871\n",
       " Austin           183.983667\n",
       " Boston           182.684193\n",
       " Dallas           185.504725\n",
       " Los Angeles      175.074239\n",
       " New York City    186.874417\n",
       " Portland         190.045809\n",
       " San Francisco    192.426275\n",
       " Seattle          182.622737\n",
       "Name: income, dtype: float64"
      ]
     },
     "execution_count": 241,
     "metadata": {},
     "output_type": "execute_result"
    }
   ],
   "source": [
    "df_mar_mean=MAR.groupby(city_mar)['income'].mean()\n",
    "df_mar_mean"
   ]
  },
  {
   "cell_type": "code",
   "execution_count": 242,
   "id": "6c766f24",
   "metadata": {},
   "outputs": [
    {
     "data": {
      "text/plain": [
       "Purchase Address\n",
       " Atlanta          320.049934\n",
       " Austin           334.413686\n",
       " Boston           322.877249\n",
       " Dallas           326.324481\n",
       " Los Angeles      331.043593\n",
       " New York City    325.927186\n",
       " Portland         364.805914\n",
       " San Francisco    337.820721\n",
       " Seattle          320.604280\n",
       "Name: income, dtype: float64"
      ]
     },
     "execution_count": 242,
     "metadata": {},
     "output_type": "execute_result"
    }
   ],
   "source": [
    "df_mar_std=MAR.groupby(city_mar)['income'].std()\n",
    "df_mar_std"
   ]
  },
  {
   "cell_type": "code",
   "execution_count": 243,
   "id": "fd5e64b2",
   "metadata": {},
   "outputs": [
    {
     "data": {
      "text/plain": [
       "Purchase Address\n",
       " Atlanta          284454.92\n",
       " Austin           172683.59\n",
       " Boston           353880.16\n",
       " Dallas           252840.47\n",
       " Los Angeles      551399.07\n",
       " New York City    446587.78\n",
       " Portland         241128.11\n",
       " San Francisco    817074.77\n",
       " Seattle          276010.24\n",
       "Name: income, dtype: float64"
      ]
     },
     "execution_count": 243,
     "metadata": {},
     "output_type": "execute_result"
    }
   ],
   "source": [
    "df_apr_sum=APR.groupby(city_apr)['income'].sum()\n",
    "df_apr_sum"
   ]
  },
  {
   "cell_type": "code",
   "execution_count": 244,
   "id": "b5907595",
   "metadata": {},
   "outputs": [
    {
     "data": {
      "text/plain": [
       "Purchase Address\n",
       " Atlanta          193.243832\n",
       " Austin           177.475427\n",
       " Boston           184.504776\n",
       " Dallas           187.289237\n",
       " Los Angeles      182.220446\n",
       " New York City    183.478956\n",
       " Portland         194.929757\n",
       " San Francisco    184.150275\n",
       " Seattle          191.407933\n",
       "Name: income, dtype: float64"
      ]
     },
     "execution_count": 244,
     "metadata": {},
     "output_type": "execute_result"
    }
   ],
   "source": [
    "df_apr_mean=APR.groupby(city_apr)['income'].mean()\n",
    "df_apr_mean"
   ]
  },
  {
   "cell_type": "code",
   "execution_count": 245,
   "id": "0bd246e0",
   "metadata": {},
   "outputs": [
    {
     "data": {
      "text/plain": [
       "Purchase Address\n",
       " Atlanta          340.673031\n",
       " Austin           308.567529\n",
       " Boston           327.080398\n",
       " Dallas           332.070367\n",
       " Los Angeles      325.759886\n",
       " New York City    340.136203\n",
       " Portland         344.485049\n",
       " San Francisco    333.761000\n",
       " Seattle          330.830930\n",
       "Name: income, dtype: float64"
      ]
     },
     "execution_count": 245,
     "metadata": {},
     "output_type": "execute_result"
    }
   ],
   "source": [
    "df_apr_std=APR.groupby(city_apr)['income'].std()\n",
    "df_apr_std"
   ]
  },
  {
   "cell_type": "code",
   "execution_count": 246,
   "id": "70e7335e",
   "metadata": {},
   "outputs": [
    {
     "data": {
      "text/plain": [
       "Purchase Address\n",
       " Atlanta          239262.96\n",
       " Austin           160745.21\n",
       " Boston           327687.88\n",
       " Dallas           266379.49\n",
       " Los Angeles      499696.90\n",
       " New York City    436418.35\n",
       " Portland         230569.97\n",
       " San Francisco    772319.75\n",
       " Seattle          211504.29\n",
       "Name: income, dtype: float64"
      ]
     },
     "execution_count": 246,
     "metadata": {},
     "output_type": "execute_result"
    }
   ],
   "source": [
    "df_may_sum=MAY.groupby(city_may)['income'].sum()\n",
    "df_may_sum "
   ]
  },
  {
   "cell_type": "code",
   "execution_count": 247,
   "id": "b9a62f99",
   "metadata": {},
   "outputs": [
    {
     "data": {
      "text/plain": [
       "Purchase Address\n",
       " Atlanta          179.761803\n",
       " Austin           191.591430\n",
       " Boston           182.048822\n",
       " Dallas           187.591190\n",
       " Los Angeles      194.586020\n",
       " New York City    192.424317\n",
       " Portland         197.744400\n",
       " San Francisco    196.970097\n",
       " Seattle          170.430532\n",
       "Name: income, dtype: float64"
      ]
     },
     "execution_count": 247,
     "metadata": {},
     "output_type": "execute_result"
    }
   ],
   "source": [
    "df_may_mean=MAY.groupby(city_may)['income'].mean()\n",
    "df_may_mean "
   ]
  },
  {
   "cell_type": "code",
   "execution_count": 248,
   "id": "0ea12ba2",
   "metadata": {},
   "outputs": [
    {
     "data": {
      "text/plain": [
       "Purchase Address\n",
       " Atlanta          323.373308\n",
       " Austin           351.854395\n",
       " Boston           327.217952\n",
       " Dallas           357.954316\n",
       " Los Angeles      341.276977\n",
       " New York City    343.792812\n",
       " Portland         352.066901\n",
       " San Francisco    353.396905\n",
       " Seattle          315.673468\n",
       "Name: income, dtype: float64"
      ]
     },
     "execution_count": 248,
     "metadata": {},
     "output_type": "execute_result"
    }
   ],
   "source": [
    "df_may_std=MAY.groupby(city_may)['income'].std()\n",
    "df_may_std "
   ]
  },
  {
   "cell_type": "code",
   "execution_count": 249,
   "id": "3df52a0c",
   "metadata": {},
   "outputs": [
    {
     "data": {
      "text/plain": [
       "Purchase Address\n",
       " Atlanta          211766.47\n",
       " Austin           150301.03\n",
       " Boston           291535.16\n",
       " Dallas           210310.23\n",
       " Los Angeles      394851.52\n",
       " New York City    355623.79\n",
       " Portland         177011.79\n",
       " San Francisco    642985.78\n",
       " Seattle          212513.92\n",
       "Name: income, dtype: float64"
      ]
     },
     "execution_count": 249,
     "metadata": {},
     "output_type": "execute_result"
    }
   ],
   "source": [
    "df_jul_sum=JUL.groupby(city_jul)['income'].sum()\n",
    "df_jul_sum "
   ]
  },
  {
   "cell_type": "code",
   "execution_count": 250,
   "id": "7e281084",
   "metadata": {},
   "outputs": [
    {
     "data": {
      "text/plain": [
       "Purchase Address\n",
       " Atlanta          184.787496\n",
       " Austin           197.245446\n",
       " Boston           187.844820\n",
       " Dallas           191.539372\n",
       " Los Angeles      176.667347\n",
       " New York City    184.261031\n",
       " Portland         192.613482\n",
       " San Francisco    182.148946\n",
       " Seattle          189.914138\n",
       "Name: income, dtype: float64"
      ]
     },
     "execution_count": 250,
     "metadata": {},
     "output_type": "execute_result"
    }
   ],
   "source": [
    "df_jul_mean=JUL.groupby(city_jul)['income'].mean()\n",
    "df_jul_mean "
   ]
  },
  {
   "cell_type": "code",
   "execution_count": 251,
   "id": "7cb05839",
   "metadata": {},
   "outputs": [
    {
     "data": {
      "text/plain": [
       "Purchase Address\n",
       " Atlanta          329.971078\n",
       " Austin           357.150146\n",
       " Boston           348.463610\n",
       " Dallas           343.402946\n",
       " Los Angeles      321.568790\n",
       " New York City    321.703223\n",
       " Portland         324.139787\n",
       " San Francisco    331.329345\n",
       " Seattle          339.425069\n",
       "Name: income, dtype: float64"
      ]
     },
     "execution_count": 251,
     "metadata": {},
     "output_type": "execute_result"
    }
   ],
   "source": [
    "df_jul_std=JUL.groupby(city_jul)['income'].std()\n",
    "df_jul_std "
   ]
  },
  {
   "cell_type": "code",
   "execution_count": 252,
   "id": "c33c8ef3",
   "metadata": {},
   "outputs": [
    {
     "data": {
      "text/plain": [
       "Purchase Address\n",
       " Atlanta          169267.66\n",
       " Austin           125713.61\n",
       " Boston           240275.25\n",
       " Dallas           179763.46\n",
       " Los Angeles      345461.66\n",
       " New York City    303157.81\n",
       " Portland         152289.69\n",
       " San Francisco    538753.13\n",
       " Seattle          189730.04\n",
       "Name: income, dtype: float64"
      ]
     },
     "execution_count": 252,
     "metadata": {},
     "output_type": "execute_result"
    }
   ],
   "source": [
    "df_aug_sum=AUG.groupby(city_aug)['income'].sum()\n",
    "df_aug_sum "
   ]
  },
  {
   "cell_type": "code",
   "execution_count": 253,
   "id": "3e4df39c",
   "metadata": {
    "scrolled": true
   },
   "outputs": [
    {
     "data": {
      "text/plain": [
       "Purchase Address\n",
       " Atlanta          179.880616\n",
       " Austin           193.703559\n",
       " Boston           192.992169\n",
       " Dallas           185.706054\n",
       " Los Angeles      185.035704\n",
       " New York City    186.443918\n",
       " Portland         185.267263\n",
       " San Francisco    190.170537\n",
       " Seattle          188.598449\n",
       "Name: income, dtype: float64"
      ]
     },
     "execution_count": 253,
     "metadata": {},
     "output_type": "execute_result"
    }
   ],
   "source": [
    "df_aug_mean=AUG.groupby(city_aug)['income'].mean() \n",
    "df_aug_mean "
   ]
  },
  {
   "cell_type": "code",
   "execution_count": 254,
   "id": "110bed35",
   "metadata": {
    "scrolled": true
   },
   "outputs": [
    {
     "data": {
      "text/plain": [
       "Purchase Address\n",
       " Atlanta          329.971078\n",
       " Austin           357.150146\n",
       " Boston           348.463610\n",
       " Dallas           343.402946\n",
       " Los Angeles      321.568790\n",
       " New York City    321.703223\n",
       " Portland         324.139787\n",
       " San Francisco    331.329345\n",
       " Seattle          339.425069\n",
       "Name: income, dtype: float64"
      ]
     },
     "execution_count": 254,
     "metadata": {},
     "output_type": "execute_result"
    }
   ],
   "source": [
    "df_aug_std=JUL.groupby(city_jul)['income'].std()\n",
    "df_aug_std"
   ]
  },
  {
   "cell_type": "code",
   "execution_count": 255,
   "id": "2acc274e",
   "metadata": {},
   "outputs": [
    {
     "data": {
      "text/plain": [
       "Purchase Address\n",
       " Atlanta          171278.89\n",
       " Austin           106610.59\n",
       " Boston           247368.73\n",
       " Dallas           164215.85\n",
       " Los Angeles      354218.42\n",
       " New York City    301290.77\n",
       " Portland         132949.48\n",
       " San Francisco    464529.65\n",
       " Seattle          156354.32\n",
       "Name: income, dtype: float64"
      ]
     },
     "execution_count": 255,
     "metadata": {},
     "output_type": "execute_result"
    }
   ],
   "source": [
    "df_sep_sum=SEP.groupby(city_sep)['income'].sum()\n",
    "df_sep_sum"
   ]
  },
  {
   "cell_type": "code",
   "execution_count": 256,
   "id": "90534cbe",
   "metadata": {},
   "outputs": [
    {
     "data": {
      "text/plain": [
       "Purchase Address\n",
       " Atlanta          306642.99\n",
       " Austin           203072.22\n",
       " Boston           367328.34\n",
       " Dallas           323732.61\n",
       " Los Angeles      612445.57\n",
       " New York City    486401.39\n",
       " Portland         254172.81\n",
       " San Francisco    865824.13\n",
       " Seattle          317263.99\n",
       "Name: income, dtype: float64"
      ]
     },
     "execution_count": 256,
     "metadata": {},
     "output_type": "execute_result"
    }
   ],
   "source": [
    "df_oct_sum=OCT.groupby(city_oct)['income'].sum()\n",
    "df_oct_sum"
   ]
  },
  {
   "cell_type": "code",
   "execution_count": 257,
   "id": "9c45b76f",
   "metadata": {},
   "outputs": [
    {
     "data": {
      "text/plain": [
       "Purchase Address\n",
       " Atlanta          275378.71\n",
       " Austin           171283.48\n",
       " Boston           351244.07\n",
       " Dallas           248059.13\n",
       " Los Angeles      501022.71\n",
       " New York City    428480.34\n",
       " Portland         207433.82\n",
       " San Francisco    764307.63\n",
       " Seattle          251699.34\n",
       "Name: income, dtype: float64"
      ]
     },
     "execution_count": 257,
     "metadata": {},
     "output_type": "execute_result"
    }
   ],
   "source": [
    "df_nov_sum=NOV.groupby(city_nov)['income'].sum()\n",
    "df_nov_sum"
   ]
  },
  {
   "cell_type": "code",
   "execution_count": 258,
   "id": "ad4716f1",
   "metadata": {},
   "outputs": [
    {
     "data": {
      "text/plain": [
       "Purchase Address\n",
       " Atlanta           360509.27\n",
       " Austin            234277.07\n",
       " Boston            510826.06\n",
       " Dallas            382384.23\n",
       " Los Angeles       683462.92\n",
       " New York City     647637.51\n",
       " Portland          303863.26\n",
       " San Francisco    1108895.82\n",
       " Seattle           387440.98\n",
       "Name: income, dtype: float64"
      ]
     },
     "execution_count": 258,
     "metadata": {},
     "output_type": "execute_result"
    }
   ],
   "source": [
    "df_dec_sum=DEC.groupby(city_dec)['income'].sum()\n",
    "df_dec_sum"
   ]
  },
  {
   "cell_type": "code",
   "execution_count": 259,
   "id": "b8d0071b",
   "metadata": {},
   "outputs": [
    {
     "data": {
      "text/plain": [
       "Purchase Address\n",
       " Atlanta          187.190044\n",
       " Austin           160.075961\n",
       " Boston           192.804934\n",
       " Dallas           175.631925\n",
       " Los Angeles      188.014023\n",
       " New York City    196.152845\n",
       " Portland         179.904574\n",
       " San Francisco    169.908431\n",
       " Seattle          166.866937\n",
       "Name: income, dtype: float64"
      ]
     },
     "execution_count": 259,
     "metadata": {},
     "output_type": "execute_result"
    }
   ],
   "source": [
    "df_sep_mean = SEP.groupby(city_sep)['income'].mean()\n",
    "df_sep_mean"
   ]
  },
  {
   "cell_type": "code",
   "execution_count": 261,
   "id": "5ada647d",
   "metadata": {},
   "outputs": [
    {
     "data": {
      "text/plain": [
       "Purchase Address\n",
       " Atlanta          191.054822\n",
       " Austin           186.304789\n",
       " Boston           168.808980\n",
       " Dallas           197.518371\n",
       " Los Angeles      185.927617\n",
       " New York City    183.686326\n",
       " Portland         183.385866\n",
       " San Francisco    181.628725\n",
       " Seattle          188.960089\n",
       "Name: income, dtype: float64"
      ]
     },
     "execution_count": 261,
     "metadata": {},
     "output_type": "execute_result"
    }
   ],
   "source": [
    "df_oct_mean = OCT.groupby(city_oct)['income'].mean()\n",
    "df_oct_mean"
   ]
  },
  {
   "cell_type": "code",
   "execution_count": 262,
   "id": "69ec2b6f",
   "metadata": {},
   "outputs": [
    {
     "data": {
      "text/plain": [
       "Purchase Address\n",
       " Atlanta          195.027415\n",
       " Austin           197.331198\n",
       " Boston           183.130381\n",
       " Dallas           180.932991\n",
       " Los Angeles      182.190076\n",
       " New York City    181.944943\n",
       " Portland         178.207749\n",
       " San Francisco    176.841192\n",
       " Seattle          177.253056\n",
       "Name: income, dtype: float64"
      ]
     },
     "execution_count": 262,
     "metadata": {},
     "output_type": "execute_result"
    }
   ],
   "source": [
    "df_nov_mean = NOV.groupby(city_nov)['income'].mean()\n",
    "df_nov_mean"
   ]
  },
  {
   "cell_type": "code",
   "execution_count": 263,
   "id": "14fae531",
   "metadata": {},
   "outputs": [
    {
     "data": {
      "text/plain": [
       "Purchase Address\n",
       " Atlanta          181.342691\n",
       " Austin           173.538570\n",
       " Boston           189.335085\n",
       " Dallas           190.715327\n",
       " Los Angeles      175.516929\n",
       " New York City    190.034481\n",
       " Portland         184.383046\n",
       " San Francisco    184.171370\n",
       " Seattle          195.974193\n",
       "Name: income, dtype: float64"
      ]
     },
     "execution_count": 263,
     "metadata": {},
     "output_type": "execute_result"
    }
   ],
   "source": [
    "df_dec_mean = DEC.groupby(city_dec)['income'].mean()\n",
    "df_dec_mean"
   ]
  },
  {
   "cell_type": "code",
   "execution_count": 264,
   "id": "bc11a7d7",
   "metadata": {},
   "outputs": [
    {
     "data": {
      "text/plain": [
       "Purchase Address\n",
       " Atlanta          352.757268\n",
       " Austin           293.740294\n",
       " Boston           355.167535\n",
       " Dallas           310.117447\n",
       " Los Angeles      338.760627\n",
       " New York City    356.112347\n",
       " Portland         334.785145\n",
       " San Francisco    307.337673\n",
       " Seattle          291.148871\n",
       "Name: income, dtype: float64"
      ]
     },
     "execution_count": 264,
     "metadata": {},
     "output_type": "execute_result"
    }
   ],
   "source": [
    "df_sep_std = SEP.groupby(city_sep)['income'].std()\n",
    "df_sep_std "
   ]
  },
  {
   "cell_type": "code",
   "execution_count": 265,
   "id": "1ff413cf",
   "metadata": {},
   "outputs": [
    {
     "data": {
      "text/plain": [
       "Purchase Address\n",
       " Atlanta          341.842891\n",
       " Austin           335.058391\n",
       " Boston           314.662758\n",
       " Dallas           339.677423\n",
       " Los Angeles      342.613371\n",
       " New York City    333.874649\n",
       " Portland         341.535857\n",
       " San Francisco    328.973544\n",
       " Seattle          336.352580\n",
       "Name: income, dtype: float64"
      ]
     },
     "execution_count": 265,
     "metadata": {},
     "output_type": "execute_result"
    }
   ],
   "source": [
    "df_oct_std = OCT.groupby(city_oct)['income'].std()\n",
    "df_oct_std "
   ]
  },
  {
   "cell_type": "code",
   "execution_count": 266,
   "id": "d8db578b",
   "metadata": {},
   "outputs": [
    {
     "data": {
      "text/plain": [
       "Purchase Address\n",
       " Atlanta          362.454227\n",
       " Austin           346.482986\n",
       " Boston           335.159348\n",
       " Dallas           344.579139\n",
       " Los Angeles      325.989217\n",
       " New York City    328.102027\n",
       " Portland         324.441783\n",
       " San Francisco    319.667653\n",
       " Seattle          310.960112\n",
       "Name: income, dtype: float64"
      ]
     },
     "execution_count": 266,
     "metadata": {},
     "output_type": "execute_result"
    }
   ],
   "source": [
    "df_nov_std = NOV.groupby(city_nov)['income'].std()\n",
    "df_nov_std"
   ]
  },
  {
   "cell_type": "code",
   "execution_count": 267,
   "id": "e1e3708d",
   "metadata": {},
   "outputs": [
    {
     "data": {
      "text/plain": [
       "Purchase Address\n",
       " Atlanta          324.877094\n",
       " Austin           306.382171\n",
       " Boston           335.679243\n",
       " Dallas           338.428672\n",
       " Los Angeles      315.914467\n",
       " New York City    339.641803\n",
       " Portland         342.847611\n",
       " San Francisco    336.530881\n",
       " Seattle          349.604996\n",
       "Name: income, dtype: float64"
      ]
     },
     "execution_count": 267,
     "metadata": {},
     "output_type": "execute_result"
    }
   ],
   "source": [
    "df_dec_std = DEC.groupby(city_dec)['income'].std()\n",
    "df_dec_std"
   ]
  }
 ],
 "metadata": {
  "kernelspec": {
   "display_name": "Python 3 (ipykernel)",
   "language": "python",
   "name": "python3"
  },
  "language_info": {
   "codemirror_mode": {
    "name": "ipython",
    "version": 3
   },
   "file_extension": ".py",
   "mimetype": "text/x-python",
   "name": "python",
   "nbconvert_exporter": "python",
   "pygments_lexer": "ipython3",
   "version": "3.9.13"
  }
 },
 "nbformat": 4,
 "nbformat_minor": 5
}
